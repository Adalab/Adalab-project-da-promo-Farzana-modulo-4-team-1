{
 "cells": [
  {
   "cell_type": "code",
   "execution_count": 58,
   "metadata": {},
   "outputs": [],
   "source": [
    "# Importar librerías para manipulación y análisis de datos\n",
    "# -----------------------------------------------------------------------\n",
    "import pandas as pd\n",
    "from pandas import DataFrame\n",
    "import numpy as np\n",
    "pd.set_option('display.max_columns', None)  # Establece una opción d"
   ]
  },
  {
   "cell_type": "code",
   "execution_count": 59,
   "metadata": {},
   "outputs": [],
   "source": [
    "df = pd.read_csv(\"ficheros/recursos-humanos.csv\", index_col=0)"
   ]
  },
  {
   "cell_type": "code",
   "execution_count": 60,
   "metadata": {},
   "outputs": [
    {
     "data": {
      "text/plain": [
       "Index(['Employee_Name', 'EmpID', 'MarriedID', 'MaritalStatusID', 'GenderID',\n",
       "       'EmpStatusID', 'DeptID', 'PerfScoreID', 'FromDiversityJobFairID',\n",
       "       'Salary', 'Termd', 'PositionID', 'Position', 'State', 'Zip', 'DOB',\n",
       "       'Sex', 'MaritalDesc', 'CitizenDesc', 'HispanicLatino', 'RaceDesc',\n",
       "       'DateofHire', 'DateofTermination', 'TermReason', 'EmploymentStatus',\n",
       "       'Department', 'ManagerName', 'ManagerID', 'RecruitmentSource',\n",
       "       'PerformanceScore', 'EngagementSurvey', 'EmpSatisfaction',\n",
       "       'SpecialProjectsCount', 'LastPerformanceReview_Date', 'DaysLateLast30',\n",
       "       'Absences', 'date', 'Remuneration', 'Age', 'Date_of_Birth'],\n",
       "      dtype='object')"
      ]
     },
     "execution_count": 60,
     "metadata": {},
     "output_type": "execute_result"
    }
   ],
   "source": [
    "df.columns"
   ]
  },
  {
   "cell_type": "code",
   "execution_count": 61,
   "metadata": {},
   "outputs": [
    {
     "name": "stdout",
     "output_type": "stream",
     "text": [
      "<class 'pandas.core.frame.DataFrame'>\n",
      "Int64Index: 410 entries, 0 to 409\n",
      "Data columns (total 40 columns):\n",
      " #   Column                      Non-Null Count  Dtype  \n",
      "---  ------                      --------------  -----  \n",
      " 0   Employee_Name               164 non-null    object \n",
      " 1   EmpID                       311 non-null    float64\n",
      " 2   MarriedID                   257 non-null    float64\n",
      " 3   MaritalStatusID             311 non-null    float64\n",
      " 4   GenderID                    311 non-null    float64\n",
      " 5   EmpStatusID                 311 non-null    float64\n",
      " 6   DeptID                      311 non-null    float64\n",
      " 7   PerfScoreID                 282 non-null    float64\n",
      " 8   FromDiversityJobFairID      156 non-null    float64\n",
      " 9   Salary                      311 non-null    object \n",
      " 10  Termd                       311 non-null    float64\n",
      " 11  PositionID                  311 non-null    float64\n",
      " 12  Position                    311 non-null    object \n",
      " 13  State                       311 non-null    object \n",
      " 14  Zip                         311 non-null    float64\n",
      " 15  DOB                         311 non-null    object \n",
      " 16  Sex                         224 non-null    object \n",
      " 17  MaritalDesc                 311 non-null    object \n",
      " 18  CitizenDesc                 263 non-null    object \n",
      " 19  HispanicLatino              311 non-null    object \n",
      " 20  RaceDesc                    227 non-null    object \n",
      " 21  DateofHire                  228 non-null    object \n",
      " 22  DateofTermination           102 non-null    object \n",
      " 23  TermReason                  251 non-null    object \n",
      " 24  EmploymentStatus            311 non-null    object \n",
      " 25  Department                  185 non-null    object \n",
      " 26  ManagerName                 220 non-null    object \n",
      " 27  ManagerID                   303 non-null    float64\n",
      " 28  RecruitmentSource           266 non-null    object \n",
      " 29  PerformanceScore            311 non-null    object \n",
      " 30  EngagementSurvey            311 non-null    float64\n",
      " 31  EmpSatisfaction             311 non-null    float64\n",
      " 32  SpecialProjectsCount        198 non-null    float64\n",
      " 33  LastPerformanceReview_Date  243 non-null    object \n",
      " 34  DaysLateLast30              191 non-null    float64\n",
      " 35  Absences                    311 non-null    float64\n",
      " 36  date                        99 non-null     object \n",
      " 37  Remuneration                311 non-null    object \n",
      " 38  Age                         2 non-null      float64\n",
      " 39  Date_of_Birth               23 non-null     object \n",
      "dtypes: float64(18), object(22)\n",
      "memory usage: 131.3+ KB\n"
     ]
    }
   ],
   "source": [
    "df.info()"
   ]
  },
  {
   "cell_type": "code",
   "execution_count": 68,
   "metadata": {},
   "outputs": [
    {
     "data": {
      "text/plain": [
       "09/09/65    2\n",
       "06/14/87    2\n",
       "09/22/76    2\n",
       "07/07/84    2\n",
       "05/12/80    1\n",
       "           ..\n",
       "10/01/90    1\n",
       "12/02/83    1\n",
       "09/15/85    1\n",
       "07/06/68    1\n",
       "08/17/78    1\n",
       "Name: DOB, Length: 307, dtype: int64"
      ]
     },
     "execution_count": 68,
     "metadata": {},
     "output_type": "execute_result"
    }
   ],
   "source": [
    "df[\"DOB\"].value_counts()"
   ]
  },
  {
   "cell_type": "code",
   "execution_count": null,
   "metadata": {},
   "outputs": [],
   "source": [
    "fecha_datetime = datetime.strptime(fecha_string, '%m/%d/%Y')"
   ]
  },
  {
   "cell_type": "code",
   "execution_count": 69,
   "metadata": {},
   "outputs": [
    {
     "data": {
      "text/plain": [
       "99"
      ]
     },
     "execution_count": 69,
     "metadata": {},
     "output_type": "execute_result"
    }
   ],
   "source": [
    "df[\"DOB\"].isnull().sum()"
   ]
  },
  {
   "cell_type": "code",
   "execution_count": null,
   "metadata": {},
   "outputs": [],
   "source": [
    "def fecha(valor):\n",
    "    try:\n",
    "        return date(valor)\n",
    "    except:\n",
    "        return np.nan"
   ]
  },
  {
   "cell_type": "code",
   "execution_count": null,
   "metadata": {},
   "outputs": [],
   "source": [
    "def fecha(valor):\n",
    "    "
   ]
  },
  {
   "cell_type": "markdown",
   "metadata": {},
   "source": [
    "1. 'EngagementSurvey' \n",
    "* puntuación de la encuesta de compromiso del empleado - Valores contínuos del 1.12 - 5.0 \n",
    "* 99 nulos\n",
    "* Float - ok\n",
    "\n",
    "2. 'EmpSatisfaction' - Satisfacción del empleado. \n",
    "* Guess - Rango valores: 1 poco satisfecho al 5 muy satisfecho\n",
    "* 311 valores\n",
    "* Float - ok\n",
    "\n",
    "3. 'SpecialProjectsCount': Número de proyectos especiales en los que ha participado el empleado\n",
    "* Rango: del 0 al 8\n",
    "* Nulos: 212\n",
    "* Float - ok\n",
    "** Analizar si los que siguen en la empresa participan todos en proyectos especiales\n",
    "\n",
    "4. 'LastPerformanceReview_Date': Fecha de la última revisión de rendimiento del empleado\n",
    "* Object - cambiar a date\n",
    "* Nulos: 167\n",
    "** volve a analizar una vez eliminados los duplicados\n",
    "\n",
    "5. 'DaysLateLast30': Número de días de retraso en el último mes\n",
    "* Float - ok\n",
    "* Nulos: 219 -- borrar quizás\n",
    "** Aclarar: retraso físico o de entrega de productos\n",
    "\n",
    "6. 'Absences': Nro. de ausencias del empleado\n",
    "* Tenemos 311 valores\n",
    "* Float - ok\n",
    "* Rango: 1 - 20\n",
    "\n",
    "7. 'date': No hay definición de la columna\n",
    "* Son 5 fechas distintas\n",
    "* Nulos - 311 (tenemos valor para los 99 - quizás son de los que no tenemos employee ID?)\n",
    "* Object - si la mantenemos, cambiar a fecha\n",
    "* Borrar\n",
    "\n",
    "8. 'Remuneration'\n",
    "* Valores para 311. 99 nulos\n",
    "* Object - cambiarlo a float\n",
    "* Duplicado de \"Salary\" - borrarla\n",
    "\n",
    "9. 'Age'\n",
    "* Completar con la fecha de nacimiento (DoB)\n",
    "* Muchos nulos (408), sólo 2 valores erróneos (-5, 150)\n",
    "\n",
    "10. 'Date_of_Birth' - Eliminar. Sólo 23 valores y son inválidos. Info en DoB"
   ]
  },
  {
   "cell_type": "code",
   "execution_count": 65,
   "metadata": {},
   "outputs": [
    {
     "data": {
      "text/html": [
       "<div>\n",
       "<style scoped>\n",
       "    .dataframe tbody tr th:only-of-type {\n",
       "        vertical-align: middle;\n",
       "    }\n",
       "\n",
       "    .dataframe tbody tr th {\n",
       "        vertical-align: top;\n",
       "    }\n",
       "\n",
       "    .dataframe thead th {\n",
       "        text-align: right;\n",
       "    }\n",
       "</style>\n",
       "<table border=\"1\" class=\"dataframe\">\n",
       "  <thead>\n",
       "    <tr style=\"text-align: right;\">\n",
       "      <th></th>\n",
       "      <th>Remuneration</th>\n",
       "      <th>Salary</th>\n",
       "    </tr>\n",
       "  </thead>\n",
       "  <tbody>\n",
       "    <tr>\n",
       "      <th>0</th>\n",
       "      <td>62,506.00</td>\n",
       "      <td>62,506.00</td>\n",
       "    </tr>\n",
       "    <tr>\n",
       "      <th>1</th>\n",
       "      <td>104,437.00</td>\n",
       "      <td>104,437.00</td>\n",
       "    </tr>\n",
       "    <tr>\n",
       "      <th>2</th>\n",
       "      <td>64,955.00</td>\n",
       "      <td>64,955.00</td>\n",
       "    </tr>\n",
       "    <tr>\n",
       "      <th>3</th>\n",
       "      <td>64,991.00</td>\n",
       "      <td>64,991.00</td>\n",
       "    </tr>\n",
       "    <tr>\n",
       "      <th>4</th>\n",
       "      <td>50,825.00</td>\n",
       "      <td>50,825.00</td>\n",
       "    </tr>\n",
       "    <tr>\n",
       "      <th>...</th>\n",
       "      <td>...</td>\n",
       "      <td>...</td>\n",
       "    </tr>\n",
       "    <tr>\n",
       "      <th>95</th>\n",
       "      <td>70,187.00</td>\n",
       "      <td>70,187.00</td>\n",
       "    </tr>\n",
       "    <tr>\n",
       "      <th>96</th>\n",
       "      <td>178,000.00</td>\n",
       "      <td>178,000.00</td>\n",
       "    </tr>\n",
       "    <tr>\n",
       "      <th>97</th>\n",
       "      <td>99,351.00</td>\n",
       "      <td>99,351.00</td>\n",
       "    </tr>\n",
       "    <tr>\n",
       "      <th>98</th>\n",
       "      <td>67,251.00</td>\n",
       "      <td>67,251.00</td>\n",
       "    </tr>\n",
       "    <tr>\n",
       "      <th>99</th>\n",
       "      <td>65,707.00</td>\n",
       "      <td>65,707.00</td>\n",
       "    </tr>\n",
       "  </tbody>\n",
       "</table>\n",
       "<p>100 rows × 2 columns</p>\n",
       "</div>"
      ],
      "text/plain": [
       "   Remuneration      Salary\n",
       "0     62,506.00   62,506.00\n",
       "1    104,437.00  104,437.00\n",
       "2     64,955.00   64,955.00\n",
       "3     64,991.00   64,991.00\n",
       "4     50,825.00   50,825.00\n",
       "..          ...         ...\n",
       "95    70,187.00   70,187.00\n",
       "96   178,000.00  178,000.00\n",
       "97    99,351.00   99,351.00\n",
       "98    67,251.00   67,251.00\n",
       "99    65,707.00   65,707.00\n",
       "\n",
       "[100 rows x 2 columns]"
      ]
     },
     "execution_count": 65,
     "metadata": {},
     "output_type": "execute_result"
    }
   ],
   "source": [
    "df[[\"Remuneration\",\"Salary\"]].head(100)"
   ]
  },
  {
   "cell_type": "code",
   "execution_count": 62,
   "metadata": {},
   "outputs": [
    {
     "data": {
      "text/plain": [
       "-5.0      1\n",
       " 150.0    1\n",
       "Name: Age, dtype: int64"
      ]
     },
     "execution_count": 62,
     "metadata": {},
     "output_type": "execute_result"
    }
   ],
   "source": [
    "df[\"Age\"].value_counts()"
   ]
  },
  {
   "cell_type": "code",
   "execution_count": 63,
   "metadata": {},
   "outputs": [
    {
     "ename": "SyntaxError",
     "evalue": "invalid syntax (925035333.py, line 1)",
     "output_type": "error",
     "traceback": [
      "\u001b[0;36m  File \u001b[0;32m\"/tmp/ipykernel_10987/925035333.py\"\u001b[0;36m, line \u001b[0;32m1\u001b[0m\n\u001b[0;31m    because i didn´t know what to say\u001b[0m\n\u001b[0m            ^\u001b[0m\n\u001b[0;31mSyntaxError\u001b[0m\u001b[0;31m:\u001b[0m invalid syntax\n"
     ]
    }
   ],
   "source": [
    "because i didn´t know what to say"
   ]
  },
  {
   "cell_type": "code",
   "execution_count": null,
   "metadata": {},
   "outputs": [
    {
     "data": {
      "text/plain": [
       "63,025.00    2\n",
       "57,815.00    2\n",
       "61,242.00    2\n",
       "66,738.00    1\n",
       "68,829.00    1\n",
       "            ..\n",
       "51,337.00    1\n",
       "53,171.00    1\n",
       "52,249.00    1\n",
       "65,707.00    1\n",
       "45,046.00    1\n",
       "Name: Remuneration, Length: 308, dtype: int64"
      ]
     },
     "execution_count": 55,
     "metadata": {},
     "output_type": "execute_result"
    }
   ],
   "source": [
    "df['Remuneration'].value_counts()"
   ]
  },
  {
   "cell_type": "code",
   "execution_count": null,
   "metadata": {},
   "outputs": [
    {
     "data": {
      "text/plain": [
       "20.0"
      ]
     },
     "execution_count": 49,
     "metadata": {},
     "output_type": "execute_result"
    }
   ],
   "source": [
    "df['Absences'].max()"
   ]
  },
  {
   "cell_type": "code",
   "execution_count": null,
   "metadata": {},
   "outputs": [
    {
     "name": "stdout",
     "output_type": "stream",
     "text": [
      "<class 'pandas.core.frame.DataFrame'>\n",
      "Int64Index: 410 entries, 0 to 409\n",
      "Data columns (total 40 columns):\n",
      " #   Column                      Non-Null Count  Dtype  \n",
      "---  ------                      --------------  -----  \n",
      " 0   Employee_Name               164 non-null    object \n",
      " 1   EmpID                       311 non-null    float64\n",
      " 2   MarriedID                   257 non-null    float64\n",
      " 3   MaritalStatusID             311 non-null    float64\n",
      " 4   GenderID                    311 non-null    float64\n",
      " 5   EmpStatusID                 311 non-null    float64\n",
      " 6   DeptID                      311 non-null    float64\n",
      " 7   PerfScoreID                 282 non-null    float64\n",
      " 8   FromDiversityJobFairID      156 non-null    float64\n",
      " 9   Salary                      311 non-null    object \n",
      " 10  Termd                       311 non-null    float64\n",
      " 11  PositionID                  311 non-null    float64\n",
      " 12  Position                    311 non-null    object \n",
      " 13  State                       311 non-null    object \n",
      " 14  Zip                         311 non-null    float64\n",
      " 15  DOB                         311 non-null    object \n",
      " 16  Sex                         224 non-null    object \n",
      " 17  MaritalDesc                 311 non-null    object \n",
      " 18  CitizenDesc                 263 non-null    object \n",
      " 19  HispanicLatino              311 non-null    object \n",
      " 20  RaceDesc                    227 non-null    object \n",
      " 21  DateofHire                  228 non-null    object \n",
      " 22  DateofTermination           102 non-null    object \n",
      " 23  TermReason                  251 non-null    object \n",
      " 24  EmploymentStatus            311 non-null    object \n",
      " 25  Department                  185 non-null    object \n",
      " 26  ManagerName                 220 non-null    object \n",
      " 27  ManagerID                   303 non-null    float64\n",
      " 28  RecruitmentSource           266 non-null    object \n",
      " 29  PerformanceScore            311 non-null    object \n",
      " 30  EngagementSurvey            311 non-null    float64\n",
      " 31  EmpSatisfaction             311 non-null    float64\n",
      " 32  SpecialProjectsCount        198 non-null    float64\n",
      " 33  LastPerformanceReview_Date  243 non-null    object \n",
      " 34  DaysLateLast30              191 non-null    float64\n",
      " 35  Absences                    311 non-null    float64\n",
      " 36  date                        99 non-null     object \n",
      " 37  Remuneration                311 non-null    object \n",
      " 38  Age                         2 non-null      float64\n",
      " 39  Date_of_Birth               23 non-null     object \n",
      "dtypes: float64(18), object(22)\n",
      "memory usage: 131.3+ KB\n"
     ]
    }
   ],
   "source": [
    "df.info()\n"
   ]
  },
  {
   "cell_type": "code",
   "execution_count": null,
   "metadata": {},
   "outputs": [
    {
     "data": {
      "text/plain": [
       "408"
      ]
     },
     "execution_count": 57,
     "metadata": {},
     "output_type": "execute_result"
    }
   ],
   "source": [
    "df['Age'].isnull().sum()"
   ]
  },
  {
   "cell_type": "code",
   "execution_count": null,
   "metadata": {},
   "outputs": [
    {
     "data": {
      "text/plain": [
       "2022-01-03    23\n",
       "2022-04-01    22\n",
       "2022-05-01    19\n",
       "2022-01-02    19\n",
       "2022-01-01    16\n",
       "Name: date, dtype: int64"
      ]
     },
     "execution_count": 53,
     "metadata": {},
     "output_type": "execute_result"
    }
   ],
   "source": [
    "df[\"date\"].value_counts()"
   ]
  },
  {
   "cell_type": "code",
   "execution_count": null,
   "metadata": {},
   "outputs": [
    {
     "data": {
      "text/plain": [
       "5.0"
      ]
     },
     "execution_count": 39,
     "metadata": {},
     "output_type": "execute_result"
    }
   ],
   "source": [
    "df[\"EngagementSurvey\"].max()"
   ]
  }
 ],
 "metadata": {
  "kernelspec": {
   "display_name": "base",
   "language": "python",
   "name": "python3"
  },
  "language_info": {
   "codemirror_mode": {
    "name": "ipython",
    "version": 3
   },
   "file_extension": ".py",
   "mimetype": "text/x-python",
   "name": "python",
   "nbconvert_exporter": "python",
   "pygments_lexer": "ipython3",
   "version": "3.9.7"
  }
 },
 "nbformat": 4,
 "nbformat_minor": 2
}
