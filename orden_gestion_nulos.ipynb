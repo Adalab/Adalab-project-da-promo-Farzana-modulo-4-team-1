{
 "cells": [
  {
   "cell_type": "code",
   "execution_count": 1,
   "metadata": {},
   "outputs": [],
   "source": [
    "# importamos las librerías que necesitamos\n",
    "\n",
    "# Tratamiento de datos\n",
    "# -----------------------------------------------------------------------\n",
    "import pandas as pd\n",
    "import numpy as np\n",
    "\n",
    "# Imputación de nulos usando métodos avanzados estadísticos\n",
    "# -----------------------------------------------------------------------\n",
    "from sklearn.impute import SimpleImputer\n",
    "from sklearn.experimental import enable_iterative_imputer\n",
    "from sklearn.impute import IterativeImputer\n",
    "from sklearn.impute import KNNImputer\n",
    "\n",
    "# Librerías de visualización\n",
    "# -----------------------------------------------------------------------\n",
    "import seaborn as sns\n",
    "import matplotlib.pyplot as plt\n",
    "\n",
    "import datetime\n",
    "\n",
    "# Configuración\n",
    "# -----------------------------------------------------------------------\n",
    "pd.set_option('display.max_columns', None) # para poder visualizar todas las columnas de los DataFrames"
   ]
  },
  {
   "cell_type": "code",
   "execution_count": 2,
   "metadata": {},
   "outputs": [],
   "source": [
    "df = pd.read_csv('ficheros/limpieza_sin_nulos.csv', index_col=0)"
   ]
  },
  {
   "cell_type": "code",
   "execution_count": 3,
   "metadata": {},
   "outputs": [
    {
     "data": {
      "text/plain": [
       "Last_name                     47.266881\n",
       "First_name                    47.266881\n",
       "EmpID                          0.000000\n",
       "GenderID                       0.000000\n",
       "EmpStatusID                    0.000000\n",
       "DeptID                         0.000000\n",
       "PerfScoreID                    9.324759\n",
       "FromDiversityJobFairID        49.839228\n",
       "Salary                         0.000000\n",
       "Termd                          0.000000\n",
       "Position                       0.000000\n",
       "State                          0.000000\n",
       "Zip                            0.000000\n",
       "DOB                            0.000000\n",
       "MaritalDesc                    0.000000\n",
       "CitizenDesc                   15.434084\n",
       "HispanicLatino                 0.000000\n",
       "RaceDesc                      27.009646\n",
       "DateofHire                    26.688103\n",
       "DateofTermination             67.202572\n",
       "TermReason                    19.292605\n",
       "EmploymentStatus               0.000000\n",
       "Department                    40.514469\n",
       "ManagerID                      2.572347\n",
       "RecruitmentSource             14.469453\n",
       "PerformanceScore               0.000000\n",
       "EngagementSurvey               0.000000\n",
       "EmpSatisfaction                0.000000\n",
       "SpecialProjectsCount          36.334405\n",
       "LastPerformanceReview_Date    21.864952\n",
       "DaysLateLast30                38.585209\n",
       "Absences                       0.000000\n",
       "Age                            0.000000\n",
       "ManagerFirstName              93.569132\n",
       "ManagerLastName               93.569132\n",
       "dtype: float64"
      ]
     },
     "execution_count": 3,
     "metadata": {},
     "output_type": "execute_result"
    }
   ],
   "source": [
    "# lo primero que vamos a hacer es calcular el porcentaje de nulos que tenemos para cada columna\n",
    "(df.isnull().sum() / df.shape[0]) * 100"
   ]
  },
  {
   "cell_type": "code",
   "execution_count": 4,
   "metadata": {},
   "outputs": [
    {
     "data": {
      "text/html": [
       "<div>\n",
       "<style scoped>\n",
       "    .dataframe tbody tr th:only-of-type {\n",
       "        vertical-align: middle;\n",
       "    }\n",
       "\n",
       "    .dataframe tbody tr th {\n",
       "        vertical-align: top;\n",
       "    }\n",
       "\n",
       "    .dataframe thead th {\n",
       "        text-align: right;\n",
       "    }\n",
       "</style>\n",
       "<table border=\"1\" class=\"dataframe\">\n",
       "  <thead>\n",
       "    <tr style=\"text-align: right;\">\n",
       "      <th></th>\n",
       "      <th>%_nulos</th>\n",
       "    </tr>\n",
       "  </thead>\n",
       "  <tbody>\n",
       "    <tr>\n",
       "      <th>Last_name</th>\n",
       "      <td>47.266881</td>\n",
       "    </tr>\n",
       "    <tr>\n",
       "      <th>First_name</th>\n",
       "      <td>47.266881</td>\n",
       "    </tr>\n",
       "    <tr>\n",
       "      <th>PerfScoreID</th>\n",
       "      <td>9.324759</td>\n",
       "    </tr>\n",
       "    <tr>\n",
       "      <th>FromDiversityJobFairID</th>\n",
       "      <td>49.839228</td>\n",
       "    </tr>\n",
       "    <tr>\n",
       "      <th>CitizenDesc</th>\n",
       "      <td>15.434084</td>\n",
       "    </tr>\n",
       "    <tr>\n",
       "      <th>RaceDesc</th>\n",
       "      <td>27.009646</td>\n",
       "    </tr>\n",
       "    <tr>\n",
       "      <th>DateofHire</th>\n",
       "      <td>26.688103</td>\n",
       "    </tr>\n",
       "    <tr>\n",
       "      <th>DateofTermination</th>\n",
       "      <td>67.202572</td>\n",
       "    </tr>\n",
       "    <tr>\n",
       "      <th>TermReason</th>\n",
       "      <td>19.292605</td>\n",
       "    </tr>\n",
       "    <tr>\n",
       "      <th>Department</th>\n",
       "      <td>40.514469</td>\n",
       "    </tr>\n",
       "    <tr>\n",
       "      <th>ManagerID</th>\n",
       "      <td>2.572347</td>\n",
       "    </tr>\n",
       "    <tr>\n",
       "      <th>RecruitmentSource</th>\n",
       "      <td>14.469453</td>\n",
       "    </tr>\n",
       "    <tr>\n",
       "      <th>SpecialProjectsCount</th>\n",
       "      <td>36.334405</td>\n",
       "    </tr>\n",
       "    <tr>\n",
       "      <th>LastPerformanceReview_Date</th>\n",
       "      <td>21.864952</td>\n",
       "    </tr>\n",
       "    <tr>\n",
       "      <th>DaysLateLast30</th>\n",
       "      <td>38.585209</td>\n",
       "    </tr>\n",
       "    <tr>\n",
       "      <th>ManagerFirstName</th>\n",
       "      <td>93.569132</td>\n",
       "    </tr>\n",
       "    <tr>\n",
       "      <th>ManagerLastName</th>\n",
       "      <td>93.569132</td>\n",
       "    </tr>\n",
       "  </tbody>\n",
       "</table>\n",
       "</div>"
      ],
      "text/plain": [
       "                              %_nulos\n",
       "Last_name                   47.266881\n",
       "First_name                  47.266881\n",
       "PerfScoreID                  9.324759\n",
       "FromDiversityJobFairID      49.839228\n",
       "CitizenDesc                 15.434084\n",
       "RaceDesc                    27.009646\n",
       "DateofHire                  26.688103\n",
       "DateofTermination           67.202572\n",
       "TermReason                  19.292605\n",
       "Department                  40.514469\n",
       "ManagerID                    2.572347\n",
       "RecruitmentSource           14.469453\n",
       "SpecialProjectsCount        36.334405\n",
       "LastPerformanceReview_Date  21.864952\n",
       "DaysLateLast30              38.585209\n",
       "ManagerFirstName            93.569132\n",
       "ManagerLastName             93.569132"
      ]
     },
     "execution_count": 4,
     "metadata": {},
     "output_type": "execute_result"
    }
   ],
   "source": [
    "# lo convertimos a DataFrame\n",
    "df_nulos = pd.DataFrame((df.isnull().sum() / df.shape[0]) * 100, columns = [\"%_nulos\"])\n",
    "\n",
    "# filtramos el DataFrame para quedarnos solo con aquellas columnas que tengan nulos\n",
    "df_nulos[df_nulos[\"%_nulos\"] > 0]"
   ]
  },
  {
   "cell_type": "code",
   "execution_count": 5,
   "metadata": {},
   "outputs": [
    {
     "data": {
      "text/plain": [
       "Index(['Last_name', 'First_name', 'EmpID', 'GenderID', 'EmpStatusID', 'DeptID',\n",
       "       'Salary', 'Termd', 'Position', 'State', 'Zip', 'DOB', 'MaritalDesc',\n",
       "       'CitizenDesc', 'HispanicLatino', 'RaceDesc', 'DateofHire',\n",
       "       'DateofTermination', 'TermReason', 'EmploymentStatus', 'Department',\n",
       "       'ManagerID', 'RecruitmentSource', 'PerformanceScore',\n",
       "       'EngagementSurvey', 'EmpSatisfaction', 'SpecialProjectsCount',\n",
       "       'LastPerformanceReview_Date', 'DaysLateLast30', 'Absences', 'Age'],\n",
       "      dtype='object')"
      ]
     },
     "execution_count": 5,
     "metadata": {},
     "output_type": "execute_result"
    }
   ],
   "source": [
    "#Borramos:\n",
    "# Manager nombre y apellido - No existe correspondencia entre el Manager ID y el Nombre y Apellido del Manager por lo que no podríamos completar los valores faltantes del nombre y apellido del manager\n",
    "# JobDiversity - La info ya la tenemos en RecruitmentSource \n",
    "#\"PerfScoreID\" - La info la tenemos en PerformanceScore\n",
    "\n",
    "borrar_cat = [\"ManagerFirstName\", \"ManagerLastName\", \"FromDiversityJobFairID\", \"PerfScoreID\"]\n",
    "df.drop(columns = borrar_cat, axis=1, inplace=True)\n",
    "df.columns"
   ]
  },
  {
   "cell_type": "markdown",
   "metadata": {},
   "source": [
    "# Variable categóricas"
   ]
  },
  {
   "cell_type": "markdown",
   "metadata": {},
   "source": [
    "Gestión de nulos en categóricas:\n",
    "\n",
    "- ManagerID - Unknown\n",
    "- Last Name, First Name - Unknown\n",
    "- CitizenDesc\n",
    "- RaceDesc\n",
    "- DateofTermination: Termd == 1 -- 2 valores = \"31/12/2023\"\n",
    "- DateofTermination: Termd ==0 -- 207 valores activos = \"00/00/0000\"\n",
    "- TermReason - Unknown\n",
    "- Department - Completar con diccionario (dept_dic)\n",
    "- Recruitment Source _ unknown\n",
    "- LastPerformanceReview_Date - Lo dejamos en nulo"
   ]
  },
  {
   "cell_type": "code",
   "execution_count": 6,
   "metadata": {},
   "outputs": [
    {
     "name": "stdout",
     "output_type": "stream",
     "text": [
      "Las columnas categóricas que tienen nulos son : \n",
      " \n",
      "Index(['Last_name', 'First_name', 'CitizenDesc', 'RaceDesc', 'DateofHire',\n",
      "       'DateofTermination', 'TermReason', 'Department', 'RecruitmentSource',\n",
      "       'LastPerformanceReview_Date'],\n",
      "      dtype='object')\n"
     ]
    }
   ],
   "source": [
    "# Obtenemos la lista de columnas categóricas que tienen nulos\n",
    "nulos_esta_cat = df[df.columns[df.isnull().any()]].select_dtypes(include = \"O\").columns\n",
    "print(\"Las columnas categóricas que tienen nulos son : \\n \")\n",
    "print(nulos_esta_cat)"
   ]
  },
  {
   "cell_type": "code",
   "execution_count": 7,
   "metadata": {},
   "outputs": [
    {
     "name": "stdout",
     "output_type": "stream",
     "text": [
      "La distribución de las categorías para la columna LAST_NAME\n"
     ]
    },
    {
     "data": {
      "text/plain": [
       "Nguyen      0.006431\n",
       "Anderson    0.006431\n",
       "Robinson    0.006431\n",
       "Ndzi        0.006431\n",
       "Miller      0.006431\n",
       "              ...   \n",
       "Good        0.003215\n",
       "Goyal       0.003215\n",
       "Gross       0.003215\n",
       "Gruber      0.003215\n",
       "Zima        0.003215\n",
       "Name: Last_name, Length: 159, dtype: float64"
      ]
     },
     "metadata": {},
     "output_type": "display_data"
    },
    {
     "name": "stdout",
     "output_type": "stream",
     "text": [
      "..........\n",
      "La distribución de las categorías para la columna FIRST_NAME\n"
     ]
    },
    {
     "data": {
      "text/plain": [
       " Susan         0.009646\n",
       " Jennifer      0.006431\n",
       " Alex          0.006431\n",
       " Peter         0.006431\n",
       " Jason         0.006431\n",
       "                 ...   \n",
       " Hans          0.003215\n",
       " Christie      0.003215\n",
       " Kara          0.003215\n",
       " Anthony       0.003215\n",
       " Catherine     0.003215\n",
       "Name: First_name, Length: 155, dtype: float64"
      ]
     },
     "metadata": {},
     "output_type": "display_data"
    },
    {
     "name": "stdout",
     "output_type": "stream",
     "text": [
      "..........\n",
      "La distribución de las categorías para la columna CITIZENDESC\n"
     ]
    },
    {
     "data": {
      "text/plain": [
       "US Citizen             0.803859\n",
       "Eligible NonCitizen    0.032154\n",
       "Non-Citizen            0.009646\n",
       "Name: CitizenDesc, dtype: float64"
      ]
     },
     "metadata": {},
     "output_type": "display_data"
    },
    {
     "name": "stdout",
     "output_type": "stream",
     "text": [
      "..........\n",
      "La distribución de las categorías para la columna RACEDESC\n"
     ]
    },
    {
     "data": {
      "text/plain": [
       "White                               0.434084\n",
       "Black or African American           0.192926\n",
       "Asian                               0.064309\n",
       "Two or more races                   0.028939\n",
       "American Indian or Alaska Native    0.006431\n",
       "Hispanic                            0.003215\n",
       "Name: RaceDesc, dtype: float64"
      ]
     },
     "metadata": {},
     "output_type": "display_data"
    },
    {
     "name": "stdout",
     "output_type": "stream",
     "text": [
      "..........\n",
      "La distribución de las categorías para la columna DATEOFHIRE\n"
     ]
    },
    {
     "data": {
      "text/plain": [
       "2011-01-10    0.038585\n",
       "2015-01-05    0.032154\n",
       "2011-09-26    0.028939\n",
       "2011-07-05    0.025723\n",
       "2011-05-16    0.025723\n",
       "                ...   \n",
       "2011-03-07    0.003215\n",
       "2012-07-09    0.003215\n",
       "2012-04-30    0.003215\n",
       "2011-01-21    0.003215\n",
       "2010-04-10    0.003215\n",
       "Name: DateofHire, Length: 87, dtype: float64"
      ]
     },
     "metadata": {},
     "output_type": "display_data"
    },
    {
     "name": "stdout",
     "output_type": "stream",
     "text": [
      "..........\n",
      "La distribución de las categorías para la columna DATEOFTERMINATION\n"
     ]
    },
    {
     "data": {
      "text/plain": [
       "2018-08-19    0.006431\n",
       "2013-04-01    0.006431\n",
       "2012-09-24    0.006431\n",
       "2016-05-17    0.006431\n",
       "2015-09-07    0.006431\n",
       "                ...   \n",
       "2014-01-11    0.003215\n",
       "2011-05-30    0.003215\n",
       "2015-03-15    0.003215\n",
       "2015-06-25    0.003215\n",
       "2015-09-29    0.003215\n",
       "Name: DateofTermination, Length: 94, dtype: float64"
      ]
     },
     "metadata": {},
     "output_type": "display_data"
    },
    {
     "name": "stdout",
     "output_type": "stream",
     "text": [
      "..........\n",
      "La distribución de las categorías para la columna TERMREASON\n"
     ]
    },
    {
     "data": {
      "text/plain": [
       "N/A-StillEmployed                   0.553055\n",
       "Another position                    0.035370\n",
       "unhappy                             0.032154\n",
       "hours                               0.025723\n",
       "more money                          0.025723\n",
       "attendance                          0.019293\n",
       "career change                       0.019293\n",
       "return to school                    0.016077\n",
       "relocation out of area              0.016077\n",
       "military                            0.012862\n",
       "performance                         0.012862\n",
       "no-call, no-show                    0.009646\n",
       "retiring                            0.009646\n",
       "maternity leave - did not return    0.006431\n",
       "Learned that he is a gangster       0.003215\n",
       "Fatal attraction                    0.003215\n",
       "medical issues                      0.003215\n",
       "gross misconduct                    0.003215\n",
       "Name: TermReason, dtype: float64"
      ]
     },
     "metadata": {},
     "output_type": "display_data"
    },
    {
     "name": "stdout",
     "output_type": "stream",
     "text": [
      "..........\n",
      "La distribución de las categorías para la columna DEPARTMENT\n"
     ]
    },
    {
     "data": {
      "text/plain": [
       "Production              0.398714\n",
       "IT/IS                   0.093248\n",
       "Sales                   0.061093\n",
       "Software Engineering    0.022508\n",
       "Admin Offices           0.016077\n",
       "Executive Office        0.003215\n",
       "Name: Department, dtype: float64"
      ]
     },
     "metadata": {},
     "output_type": "display_data"
    },
    {
     "name": "stdout",
     "output_type": "stream",
     "text": [
      "..........\n",
      "La distribución de las categorías para la columna RECRUITMENTSOURCE\n"
     ]
    },
    {
     "data": {
      "text/plain": [
       "Indeed                     0.231511\n",
       "LinkedIn                   0.218650\n",
       "Google Search              0.118971\n",
       "Diversity Job Fair         0.090032\n",
       "Employee Referral          0.090032\n",
       "CareerBuilder              0.057878\n",
       "Website                    0.038585\n",
       "Other                      0.006431\n",
       "On-line Web application    0.003215\n",
       "Name: RecruitmentSource, dtype: float64"
      ]
     },
     "metadata": {},
     "output_type": "display_data"
    },
    {
     "name": "stdout",
     "output_type": "stream",
     "text": [
      "..........\n",
      "La distribución de las categorías para la columna LASTPERFORMANCEREVIEW_DATE\n"
     ]
    },
    {
     "data": {
      "text/plain": [
       "1/14/2019    0.045016\n",
       "2/18/2019    0.032154\n",
       "1/28/2019    0.028939\n",
       "1/21/2019    0.025723\n",
       "2/25/2019    0.022508\n",
       "               ...   \n",
       "5/15/2012    0.003215\n",
       "3/6/2011     0.003215\n",
       "1/20/2015    0.003215\n",
       "4/29/2016    0.003215\n",
       "2/1/2019     0.003215\n",
       "Name: LastPerformanceReview_Date, Length: 117, dtype: float64"
      ]
     },
     "metadata": {},
     "output_type": "display_data"
    },
    {
     "name": "stdout",
     "output_type": "stream",
     "text": [
      "..........\n"
     ]
    }
   ],
   "source": [
    "# sacamos el 'value_counts()' de cada una de las columnas categóricas que tienen nulos para saber como es la distribución de sus categorías\n",
    "for col in nulos_esta_cat:\n",
    "    print(f\"La distribución de las categorías para la columna {col.upper()}\")\n",
    "    display(df[col].value_counts() / df.shape[0])\n",
    "    print(\"..........\")"
   ]
  },
  {
   "cell_type": "code",
   "execution_count": 8,
   "metadata": {},
   "outputs": [
    {
     "name": "stdout",
     "output_type": "stream",
     "text": [
      "Después del reemplazo usando 'fillna' quedan los siguientes nulos\n"
     ]
    },
    {
     "data": {
      "text/plain": [
       "ManagerID            0\n",
       "Last_name            0\n",
       "First_name           0\n",
       "CitizenDesc          0\n",
       "RaceDesc             0\n",
       "TermReason           0\n",
       "RecruitmentSource    0\n",
       "dtype: int64"
      ]
     },
     "execution_count": 8,
     "metadata": {},
     "output_type": "execute_result"
    }
   ],
   "source": [
    "# 1. Unknowns\n",
    "# Columnas cuyos nulos queremos reemplazar por \"Unknown\"\n",
    "columnas_desconocido = [\"ManagerID\", \"Last_name\",\"First_name\", \"CitizenDesc\", \"RaceDesc\", \"TermReason\",\"RecruitmentSource\"]\n",
    "\n",
    "# iteramos por la lista de columnas a las que le vamos a cambiar los nulos por \"Uknown\"\n",
    "for columna in columnas_desconocido:\n",
    "    \n",
    "    # reemplazamos los nulos por el valor Unknown para cada una de las columnas de la lista\n",
    "    df[columna] = df[columna].fillna(\"Unknown\")\n",
    "    \n",
    "# comprobamos si quedan nulos en las columnas categóricas. \n",
    "print(\"Después del reemplazo usando 'fillna' quedan los siguientes nulos\")\n",
    "df[columnas_desconocido].isnull().sum()"
   ]
  },
  {
   "cell_type": "code",
   "execution_count": null,
   "metadata": {},
   "outputs": [],
   "source": []
  },
  {
   "cell_type": "code",
   "execution_count": 9,
   "metadata": {},
   "outputs": [
    {
     "data": {
      "text/plain": [
       "0"
      ]
     },
     "execution_count": 9,
     "metadata": {},
     "output_type": "execute_result"
    }
   ],
   "source": [
    "#2. Creamos un diccionario para completar los valores nulos de departamento deacuerdo con la información en el Dept.ID\n",
    "dept_dic = {1: \"Admin Offices\" , 2: \"Executive Office\", 3: \"IT/IS\", 4: \"Software Engineer\", 5: \"Production\", 6: \"Sales\"}\n",
    "\n",
    "#Reemplazamos los valores deacuerdo al diccionario\n",
    "df[\"Department\"] = df[\"DeptID\"].replace(dept_dic)\n",
    "\n",
    "#Verificamos que no quedan nulos\n",
    "df[\"Department\"].isnull().sum()"
   ]
  },
  {
   "cell_type": "code",
   "execution_count": 10,
   "metadata": {},
   "outputs": [
    {
     "data": {
      "text/plain": [
       "0000-00-00    209\n",
       "2013-04-01      2\n",
       "2012-09-24      2\n",
       "2018-08-19      2\n",
       "2016-05-17      2\n",
       "             ... \n",
       "2014-01-11      1\n",
       "2011-05-30      1\n",
       "2015-03-15      1\n",
       "2015-06-25      1\n",
       "2015-09-29      1\n",
       "Name: DateofTermination, Length: 95, dtype: int64"
      ]
     },
     "execution_count": 10,
     "metadata": {},
     "output_type": "execute_result"
    }
   ],
   "source": [
    "#3. Date of termination: 1. Cambiar a 31/12/2023\" los 2 valores nulos para aquellos trabajadores que se marcharon (Termd== 0 ) y para los que aún isugen trabajando (Termd==0), cambiar los nulos por \"00/00/0000\"\n",
    "\n",
    "#Cambiamos todos los nulos a 0000.00.00\n",
    "df[\"DateofTermination\"] = df[\"DateofTermination\"].fillna(\"0000-00-00\") \n",
    "\n",
    "#3.Verificamos que se han hecho bien los cambios\n",
    "df[\"DateofTermination\"].value_counts()"
   ]
  },
  {
   "cell_type": "code",
   "execution_count": 11,
   "metadata": {},
   "outputs": [
    {
     "data": {
      "text/html": [
       "<div>\n",
       "<style scoped>\n",
       "    .dataframe tbody tr th:only-of-type {\n",
       "        vertical-align: middle;\n",
       "    }\n",
       "\n",
       "    .dataframe tbody tr th {\n",
       "        vertical-align: top;\n",
       "    }\n",
       "\n",
       "    .dataframe thead th {\n",
       "        text-align: right;\n",
       "    }\n",
       "</style>\n",
       "<table border=\"1\" class=\"dataframe\">\n",
       "  <thead>\n",
       "    <tr style=\"text-align: right;\">\n",
       "      <th></th>\n",
       "      <th>Last_name</th>\n",
       "      <th>First_name</th>\n",
       "      <th>EmpID</th>\n",
       "      <th>GenderID</th>\n",
       "      <th>EmpStatusID</th>\n",
       "      <th>DeptID</th>\n",
       "      <th>Salary</th>\n",
       "      <th>Termd</th>\n",
       "      <th>Position</th>\n",
       "      <th>State</th>\n",
       "      <th>Zip</th>\n",
       "      <th>DOB</th>\n",
       "      <th>MaritalDesc</th>\n",
       "      <th>CitizenDesc</th>\n",
       "      <th>HispanicLatino</th>\n",
       "      <th>RaceDesc</th>\n",
       "      <th>DateofHire</th>\n",
       "      <th>DateofTermination</th>\n",
       "      <th>TermReason</th>\n",
       "      <th>EmploymentStatus</th>\n",
       "      <th>Department</th>\n",
       "      <th>ManagerID</th>\n",
       "      <th>RecruitmentSource</th>\n",
       "      <th>PerformanceScore</th>\n",
       "      <th>EngagementSurvey</th>\n",
       "      <th>EmpSatisfaction</th>\n",
       "      <th>SpecialProjectsCount</th>\n",
       "      <th>LastPerformanceReview_Date</th>\n",
       "      <th>DaysLateLast30</th>\n",
       "      <th>Absences</th>\n",
       "      <th>Age</th>\n",
       "    </tr>\n",
       "  </thead>\n",
       "  <tbody>\n",
       "    <tr>\n",
       "      <th>27</th>\n",
       "      <td>Unknown</td>\n",
       "      <td>Unknown</td>\n",
       "      <td>10175</td>\n",
       "      <td>1</td>\n",
       "      <td>3</td>\n",
       "      <td>5</td>\n",
       "      <td>74,312.00</td>\n",
       "      <td>1</td>\n",
       "      <td>Production Manager</td>\n",
       "      <td>MA</td>\n",
       "      <td>1901</td>\n",
       "      <td>1970-03-10</td>\n",
       "      <td>Single</td>\n",
       "      <td>US Citizen</td>\n",
       "      <td>No</td>\n",
       "      <td>Asian</td>\n",
       "      <td>2013-09-30</td>\n",
       "      <td>0000-00-00</td>\n",
       "      <td>retiring</td>\n",
       "      <td>Voluntarily Terminated</td>\n",
       "      <td>Production</td>\n",
       "      <td>2.0</td>\n",
       "      <td>Indeed</td>\n",
       "      <td>Fully Meets</td>\n",
       "      <td>3.39</td>\n",
       "      <td>3</td>\n",
       "      <td>NaN</td>\n",
       "      <td>2/20/2014</td>\n",
       "      <td>NaN</td>\n",
       "      <td>14</td>\n",
       "      <td>53</td>\n",
       "    </tr>\n",
       "    <tr>\n",
       "      <th>132</th>\n",
       "      <td>Unknown</td>\n",
       "      <td>Unknown</td>\n",
       "      <td>10182</td>\n",
       "      <td>0</td>\n",
       "      <td>1</td>\n",
       "      <td>1</td>\n",
       "      <td>49,920.00</td>\n",
       "      <td>1</td>\n",
       "      <td>Administrative Assistant</td>\n",
       "      <td>MA</td>\n",
       "      <td>2170</td>\n",
       "      <td>1985-09-16</td>\n",
       "      <td>Married</td>\n",
       "      <td>US Citizen</td>\n",
       "      <td>No</td>\n",
       "      <td>Black or African American</td>\n",
       "      <td>2015-02-16</td>\n",
       "      <td>0000-00-00</td>\n",
       "      <td>no-call, no-show</td>\n",
       "      <td>Terminated for Cause</td>\n",
       "      <td>Admin Offices</td>\n",
       "      <td>1.0</td>\n",
       "      <td>Indeed</td>\n",
       "      <td>Fully Meets</td>\n",
       "      <td>3.24</td>\n",
       "      <td>3</td>\n",
       "      <td>4.0</td>\n",
       "      <td>4/15/2015</td>\n",
       "      <td>0.0</td>\n",
       "      <td>6</td>\n",
       "      <td>38</td>\n",
       "    </tr>\n",
       "  </tbody>\n",
       "</table>\n",
       "</div>"
      ],
      "text/plain": [
       "    Last_name First_name  EmpID  GenderID  EmpStatusID  DeptID     Salary  \\\n",
       "27    Unknown    Unknown  10175         1            3       5  74,312.00   \n",
       "132   Unknown    Unknown  10182         0            1       1  49,920.00   \n",
       "\n",
       "     Termd                  Position State   Zip         DOB MaritalDesc  \\\n",
       "27       1        Production Manager    MA  1901  1970-03-10      Single   \n",
       "132      1  Administrative Assistant    MA  2170  1985-09-16     Married   \n",
       "\n",
       "    CitizenDesc HispanicLatino                   RaceDesc  DateofHire  \\\n",
       "27   US Citizen             No                      Asian  2013-09-30   \n",
       "132  US Citizen             No  Black or African American  2015-02-16   \n",
       "\n",
       "    DateofTermination        TermReason        EmploymentStatus  \\\n",
       "27         0000-00-00          retiring  Voluntarily Terminated   \n",
       "132        0000-00-00  no-call, no-show    Terminated for Cause   \n",
       "\n",
       "        Department ManagerID RecruitmentSource PerformanceScore  \\\n",
       "27      Production       2.0            Indeed      Fully Meets   \n",
       "132  Admin Offices       1.0            Indeed      Fully Meets   \n",
       "\n",
       "     EngagementSurvey  EmpSatisfaction  SpecialProjectsCount  \\\n",
       "27               3.39                3                   NaN   \n",
       "132              3.24                3                   4.0   \n",
       "\n",
       "    LastPerformanceReview_Date  DaysLateLast30  Absences  Age  \n",
       "27                   2/20/2014             NaN        14   53  \n",
       "132                  4/15/2015             0.0         6   38  "
      ]
     },
     "execution_count": 11,
     "metadata": {},
     "output_type": "execute_result"
    }
   ],
   "source": [
    "#3.b.Ahora cambiamos la fecha de los 2 que ya no están en la empresa y que teníamo valor nulo (ahora convertido a 0000-00-00)\n",
    "df[(df[\"Termd\"]== 1) & (df[\"DateofTermination\"] == \"0000-00-00\")]"
   ]
  },
  {
   "cell_type": "code",
   "execution_count": 12,
   "metadata": {},
   "outputs": [],
   "source": [
    "#Cambiamos estos 2 a fecha 31-12-2023\n",
    "df.loc[(df['DateofTermination'] == '0000-00-00') & (df[\"Termd\"] == 1), 'DateofTermination'] = '2023-12-31'"
   ]
  },
  {
   "cell_type": "code",
   "execution_count": 13,
   "metadata": {},
   "outputs": [
    {
     "data": {
      "text/plain": [
       "0000-00-00    207\n",
       "2013-04-01      2\n",
       "2012-09-24      2\n",
       "2018-08-19      2\n",
       "2016-05-17      2\n",
       "2015-09-07      2\n",
       "2014-04-04      2\n",
       "2023-12-31      2\n",
       "2013-06-18      2\n",
       "2015-11-04      2\n",
       "2012-02-08      1\n",
       "2011-10-22      1\n",
       "2016-01-15      1\n",
       "2018-04-07      1\n",
       "2015-08-15      1\n",
       "2018-06-04      1\n",
       "2013-02-04      1\n",
       "2012-11-30      1\n",
       "2016-05-18      1\n",
       "2018-11-10      1\n",
       "2015-10-25      1\n",
       "2015-09-15      1\n",
       "2017-12-28      1\n",
       "2016-05-01      1\n",
       "2014-01-12      1\n",
       "2013-08-19      1\n",
       "2018-05-01      1\n",
       "2016-05-25      1\n",
       "2016-01-26      1\n",
       "2018-07-30      1\n",
       "2018-08-13      1\n",
       "2016-11-11      1\n",
       "2016-02-21      1\n",
       "2015-06-27      1\n",
       "2012-05-14      1\n",
       "2014-05-15      1\n",
       "2015-09-01      1\n",
       "2012-01-02      1\n",
       "2016-02-08      1\n",
       "2017-02-22      1\n",
       "Name: DateofTermination, dtype: int64"
      ]
     },
     "execution_count": 13,
     "metadata": {},
     "output_type": "execute_result"
    }
   ],
   "source": [
    "#Verificamos que se han realizado los cambios\n",
    "df[\"DateofTermination\"].value_counts().head(40)"
   ]
  },
  {
   "cell_type": "markdown",
   "metadata": {},
   "source": [
    "## Variables numéricas"
   ]
  },
  {
   "cell_type": "code",
   "execution_count": 14,
   "metadata": {},
   "outputs": [
    {
     "name": "stdout",
     "output_type": "stream",
     "text": [
      "Las columnas numéricas que tienen nulos son : \n",
      " \n",
      "Index(['SpecialProjectsCount', 'DaysLateLast30'], dtype='object')\n"
     ]
    }
   ],
   "source": [
    "# Obtenemos la lista de columnas numericas que tienen nulos\n",
    "nulos_esta_num = df[df.columns[df.isnull().any()]].select_dtypes(include = np.number).columns\n",
    "print(\"Las columnas numéricas que tienen nulos son : \\n \")\n",
    "print(nulos_esta_num)"
   ]
  },
  {
   "cell_type": "code",
   "execution_count": 15,
   "metadata": {},
   "outputs": [
    {
     "data": {
      "text/plain": [
       "SpecialProjectsCount    113\n",
       "DaysLateLast30          120\n",
       "dtype: int64"
      ]
     },
     "execution_count": 15,
     "metadata": {},
     "output_type": "execute_result"
    }
   ],
   "source": [
    "df[nulos_esta_num].isnull().sum() "
   ]
  },
  {
   "cell_type": "code",
   "execution_count": 16,
   "metadata": {},
   "outputs": [
    {
     "data": {
      "text/plain": [
       "SpecialProjectsCount    0.363344\n",
       "DaysLateLast30          0.385852\n",
       "dtype: float64"
      ]
     },
     "execution_count": 16,
     "metadata": {},
     "output_type": "execute_result"
    }
   ],
   "source": [
    "# Calculamos el número de nulos que tenemos en cada una de las columnas numericas\n",
    "df[nulos_esta_num].isnull().sum() / df.shape[0]"
   ]
  },
  {
   "cell_type": "markdown",
   "metadata": {},
   "source": [
    "Podemos ver los valores atipicos con diagrama de boxplot "
   ]
  },
  {
   "cell_type": "code",
   "execution_count": 17,
   "metadata": {},
   "outputs": [
    {
     "data": {
      "text/plain": [
       "0.0    175\n",
       "4.0      5\n",
       "2.0      4\n",
       "6.0      3\n",
       "3.0      2\n",
       "5.0      2\n",
       "Name: DaysLateLast30, dtype: int64"
      ]
     },
     "execution_count": 17,
     "metadata": {},
     "output_type": "execute_result"
    }
   ],
   "source": [
    "df[\"DaysLateLast30\"].value_counts()\n",
    "#Los nulos a 0.0"
   ]
  },
  {
   "cell_type": "code",
   "execution_count": 21,
   "metadata": {},
   "outputs": [
    {
     "data": {
      "image/png": "[encoded data removed]",
      "text/plain": [
       "<Figure size 1440x720 with 3 Axes>"
      ]
     },
     "metadata": {
      "needs_background": "light"
     },
     "output_type": "display_data"
    }
   ],
   "source": [
    "# Vemos los atípos de las columnas con nulos \n",
    "\n",
    "fig, axes = plt.subplots(nrows = 2, ncols = 2, figsize = (20,10)) \n",
    "\n",
    "axes = axes.flat\n",
    "\n",
    "for indice, col in enumerate(nulos_esta_num):\n",
    "    sns.boxplot(x = col, data = df, ax = axes[indice])\n",
    "    \n",
    "plt.tight_layout()\n",
    "fig.delaxes(axes[-1]);"
   ]
  },
  {
   "cell_type": "markdown",
   "metadata": {},
   "source": [
    "Aquellas columnas que tienen valores por debajo del 5-10% podemos optar por reemplazar por la media o mediana\n",
    " - Si la muestra tiene valores atipicos, la mediana es la opcion, de lo contrario podemos usar la media\n"
   ]
  },
  {
   "cell_type": "code",
   "execution_count": null,
   "metadata": {},
   "outputs": [],
   "source": [
    "- 'SpecialProjectsCount'\n",
    "- 'DaysLateLast30'"
   ]
  },
  {
   "cell_type": "code",
   "execution_count": 23,
   "metadata": {},
   "outputs": [],
   "source": [
    "#ITERATIVE IMPUTER\n",
    "\n",
    "imputer_iterative = IterativeImputer(max_iter =20, random_state=42)\n",
    "imputer_iterative_imputado = imputer_iterative.fit_transform(df[['SpecialProjectsCount', 'DaysLateLast30']])\n",
    "df[['SpecialProjectsCount_iterative', 'DaysLateLast30_iterative']] = imputer_iterative_imputado"
   ]
  },
  {
   "cell_type": "code",
   "execution_count": 24,
   "metadata": {},
   "outputs": [],
   "source": [
    "#KNN IMPUTER\n",
    "imputer_knn = KNNImputer(n_neighbors=5)\n",
    "imputer_knn_imputado = imputer_knn.fit_transform(df[['SpecialProjectsCount', 'DaysLateLast30']])\n",
    "df[['SpecialProjectsCount_knn', 'DaysLateLast30_knn']] = imputer_knn_imputado"
   ]
  },
  {
   "cell_type": "code",
   "execution_count": 26,
   "metadata": {},
   "outputs": [
    {
     "data": {
      "text/html": [
       "<div>\n",
       "<style scoped>\n",
       "    .dataframe tbody tr th:only-of-type {\n",
       "        vertical-align: middle;\n",
       "    }\n",
       "\n",
       "    .dataframe tbody tr th {\n",
       "        vertical-align: top;\n",
       "    }\n",
       "\n",
       "    .dataframe thead th {\n",
       "        text-align: right;\n",
       "    }\n",
       "</style>\n",
       "<table border=\"1\" class=\"dataframe\">\n",
       "  <thead>\n",
       "    <tr style=\"text-align: right;\">\n",
       "      <th></th>\n",
       "      <th>count</th>\n",
       "      <th>mean</th>\n",
       "      <th>std</th>\n",
       "      <th>min</th>\n",
       "      <th>25%</th>\n",
       "      <th>50%</th>\n",
       "      <th>75%</th>\n",
       "      <th>max</th>\n",
       "    </tr>\n",
       "  </thead>\n",
       "  <tbody>\n",
       "    <tr>\n",
       "      <th>SpecialProjectsCount</th>\n",
       "      <td>198.0</td>\n",
       "      <td>1.000000</td>\n",
       "      <td>2.170405</td>\n",
       "      <td>0.0</td>\n",
       "      <td>0.0</td>\n",
       "      <td>0.0</td>\n",
       "      <td>0.000000</td>\n",
       "      <td>8.0</td>\n",
       "    </tr>\n",
       "    <tr>\n",
       "      <th>SpecialProjectsCount_iterative</th>\n",
       "      <td>311.0</td>\n",
       "      <td>0.999976</td>\n",
       "      <td>1.730187</td>\n",
       "      <td>0.0</td>\n",
       "      <td>0.0</td>\n",
       "      <td>0.0</td>\n",
       "      <td>1.000268</td>\n",
       "      <td>8.0</td>\n",
       "    </tr>\n",
       "    <tr>\n",
       "      <th>SpecialProjectsCount_knn</th>\n",
       "      <td>311.0</td>\n",
       "      <td>0.995498</td>\n",
       "      <td>1.730517</td>\n",
       "      <td>0.0</td>\n",
       "      <td>0.0</td>\n",
       "      <td>0.0</td>\n",
       "      <td>1.000000</td>\n",
       "      <td>8.0</td>\n",
       "    </tr>\n",
       "    <tr>\n",
       "      <th>DaysLateLast30</th>\n",
       "      <td>191.0</td>\n",
       "      <td>0.324607</td>\n",
       "      <td>1.151371</td>\n",
       "      <td>0.0</td>\n",
       "      <td>0.0</td>\n",
       "      <td>0.0</td>\n",
       "      <td>0.000000</td>\n",
       "      <td>6.0</td>\n",
       "    </tr>\n",
       "    <tr>\n",
       "      <th>DaysLateLast30_iterative</th>\n",
       "      <td>311.0</td>\n",
       "      <td>0.324598</td>\n",
       "      <td>0.901387</td>\n",
       "      <td>0.0</td>\n",
       "      <td>0.0</td>\n",
       "      <td>0.0</td>\n",
       "      <td>0.324598</td>\n",
       "      <td>6.0</td>\n",
       "    </tr>\n",
       "    <tr>\n",
       "      <th>DaysLateLast30_knn</th>\n",
       "      <td>311.0</td>\n",
       "      <td>0.254359</td>\n",
       "      <td>0.912002</td>\n",
       "      <td>0.0</td>\n",
       "      <td>0.0</td>\n",
       "      <td>0.0</td>\n",
       "      <td>0.000000</td>\n",
       "      <td>6.0</td>\n",
       "    </tr>\n",
       "  </tbody>\n",
       "</table>\n",
       "</div>"
      ],
      "text/plain": [
       "                                count      mean       std  min  25%  50%  \\\n",
       "SpecialProjectsCount            198.0  1.000000  2.170405  0.0  0.0  0.0   \n",
       "SpecialProjectsCount_iterative  311.0  0.999976  1.730187  0.0  0.0  0.0   \n",
       "SpecialProjectsCount_knn        311.0  0.995498  1.730517  0.0  0.0  0.0   \n",
       "DaysLateLast30                  191.0  0.324607  1.151371  0.0  0.0  0.0   \n",
       "DaysLateLast30_iterative        311.0  0.324598  0.901387  0.0  0.0  0.0   \n",
       "DaysLateLast30_knn              311.0  0.254359  0.912002  0.0  0.0  0.0   \n",
       "\n",
       "                                     75%  max  \n",
       "SpecialProjectsCount            0.000000  8.0  \n",
       "SpecialProjectsCount_iterative  1.000268  8.0  \n",
       "SpecialProjectsCount_knn        1.000000  8.0  \n",
       "DaysLateLast30                  0.000000  6.0  \n",
       "DaysLateLast30_iterative        0.324598  6.0  \n",
       "DaysLateLast30_knn              0.000000  6.0  "
      ]
     },
     "execution_count": 26,
     "metadata": {},
     "output_type": "execute_result"
    }
   ],
   "source": [
    "#Comparamos las estadísticas generadas de por el iterative y el knn para decidir cuál coger (aquel cuya media y mediana sea más parecida a la original- En la columna con valores atípicos cogemos aquel cuya mediana sea más parecida a la original)\n",
    "df.describe()[['SpecialProjectsCount','SpecialProjectsCount_iterative', 'SpecialProjectsCount_knn', 'DaysLateLast30','DaysLateLast30_iterative','DaysLateLast30_knn']].T"
   ]
  },
  {
   "cell_type": "code",
   "execution_count": 28,
   "metadata": {},
   "outputs": [],
   "source": [
    "#Nos quedamos con los iterative cuyas medias y medianas coinciden con el original\n",
    "\n",
    "#Quitamos las columnas originales y las de aquellos métodos q están más alejados de la media y medianas de las originales\n",
    "df.drop(['SpecialProjectsCount', 'SpecialProjectsCount_knn', 'DaysLateLast30','DaysLateLast30_knn'], axis =1, inplace=True)"
   ]
  },
  {
   "cell_type": "code",
   "execution_count": 29,
   "metadata": {},
   "outputs": [
    {
     "data": {
      "text/plain": [
       "Index(['Last_name', 'First_name', 'EmpID', 'GenderID', 'EmpStatusID', 'DeptID',\n",
       "       'Salary', 'Termd', 'Position', 'State', 'Zip', 'DOB', 'MaritalDesc',\n",
       "       'CitizenDesc', 'HispanicLatino', 'RaceDesc', 'DateofHire',\n",
       "       'DateofTermination', 'TermReason', 'EmploymentStatus', 'Department',\n",
       "       'ManagerID', 'RecruitmentSource', 'PerformanceScore',\n",
       "       'EngagementSurvey', 'EmpSatisfaction', 'LastPerformanceReview_Date',\n",
       "       'Absences', 'Age', 'SpecialProjectsCount_iterative',\n",
       "       'DaysLateLast30_iterative'],\n",
       "      dtype='object')"
      ]
     },
     "execution_count": 29,
     "metadata": {},
     "output_type": "execute_result"
    }
   ],
   "source": [
    "df.columns"
   ]
  },
  {
   "cell_type": "code",
   "execution_count": 31,
   "metadata": {},
   "outputs": [
    {
     "data": {
      "text/plain": [
       "{'Last_name': 'Last_name',\n",
       " 'First_name': 'First_name',\n",
       " 'EmpID': 'EmpID',\n",
       " 'GenderID': 'GenderID',\n",
       " 'EmpStatusID': 'EmpStatusID',\n",
       " 'DeptID': 'DeptID',\n",
       " 'Salary': 'Salary',\n",
       " 'Termd': 'Termd',\n",
       " 'Position': 'Position',\n",
       " 'State': 'State',\n",
       " 'Zip': 'Zip',\n",
       " 'DOB': 'DOB',\n",
       " 'MaritalDesc': 'MaritalDesc',\n",
       " 'CitizenDesc': 'CitizenDesc',\n",
       " 'HispanicLatino': 'HispanicLatino',\n",
       " 'RaceDesc': 'RaceDesc',\n",
       " 'DateofHire': 'DateofHire',\n",
       " 'DateofTermination': 'DateofTermination',\n",
       " 'TermReason': 'TermReason',\n",
       " 'EmploymentStatus': 'EmploymentStatus',\n",
       " 'Department': 'Department',\n",
       " 'ManagerID': 'ManagerID',\n",
       " 'RecruitmentSource': 'RecruitmentSource',\n",
       " 'PerformanceScore': 'PerformanceScore',\n",
       " 'EngagementSurvey': 'EngagementSurvey',\n",
       " 'EmpSatisfaction': 'EmpSatisfaction',\n",
       " 'LastPerformanceReview_Date': 'LastPerformanceReview_Date',\n",
       " 'Absences': 'Absences',\n",
       " 'Age': 'Age',\n",
       " 'SpecialProjectsCount_iterative': 'SpecialProjectsCount_iterative',\n",
       " 'DaysLateLast30_iterative': 'DaysLateLast30_iterative'}"
      ]
     },
     "execution_count": 31,
     "metadata": {},
     "output_type": "execute_result"
    }
   ],
   "source": [
    "keys = ['Last_name', 'First_name', 'EmpID', 'GenderID', 'EmpStatusID', 'DeptID',\n",
    "        'Salary', 'Termd', 'Position', 'State', 'Zip', 'DOB', 'MaritalDesc',\n",
    "        'CitizenDesc', 'HispanicLatino', 'RaceDesc', 'DateofHire',\n",
    "        'DateofTermination', 'TermReason', 'EmploymentStatus', 'Department',\n",
    "        'ManagerID', 'RecruitmentSource', 'PerformanceScore',\n",
    "        'EngagementSurvey', 'EmpSatisfaction', 'LastPerformanceReview_Date',\n",
    "        'Absences', 'Age', 'SpecialProjectsCount_iterative',\n",
    "        'DaysLateLast30_iterative']\n",
    "\n",
    "result_dict = {key: key for key in keys}\n",
    "\n",
    "result_dict"
   ]
  },
  {
   "cell_type": "code",
   "execution_count": 32,
   "metadata": {},
   "outputs": [],
   "source": [
    "nuevas_columnas = {'Last_name': 'Last_name',\n",
    " 'First_name': 'First_name',\n",
    " 'EmpID': 'EmpID',\n",
    " 'GenderID': 'GenderID',\n",
    " 'EmpStatusID': 'EmpStatusID',\n",
    " 'DeptID': 'DeptID',\n",
    " 'Salary': 'Salary',\n",
    " 'Termd': 'Termd',\n",
    " 'Position': 'Position',\n",
    " 'State': 'State',\n",
    " 'Zip': 'Zip',\n",
    " 'DOB': 'DOB',\n",
    " 'MaritalDesc': 'MaritalDesc',\n",
    " 'CitizenDesc': 'CitizenDesc',\n",
    " 'HispanicLatino': 'HispanicLatino',\n",
    " 'RaceDesc': 'RaceDesc',\n",
    " 'DateofHire': 'DateofHire',\n",
    " 'DateofTermination': 'DateofTermination',\n",
    " 'TermReason': 'TermReason',\n",
    " 'EmploymentStatus': 'EmploymentStatus',\n",
    " 'Department': 'Department',\n",
    " 'ManagerID': 'ManagerID',\n",
    " 'RecruitmentSource': 'RecruitmentSource',\n",
    " 'PerformanceScore': 'PerformanceScore',\n",
    " 'EngagementSurvey': 'EngagementSurvey',\n",
    " 'EmpSatisfaction': 'EmpSatisfaction',\n",
    " 'LastPerformanceReview_Date': 'LastPerformanceReview_Date',\n",
    " 'Absences': 'Absences',\n",
    " 'Age': 'Age',\n",
    " 'SpecialProjectsCount_iterative': 'SpecialProjectsCount',\n",
    " 'DaysLateLast30_iterative': 'DaysLateLast30'}"
   ]
  },
  {
   "cell_type": "code",
   "execution_count": 33,
   "metadata": {},
   "outputs": [],
   "source": [
    "df.rename(columns = nuevas_columnas, inplace = True)"
   ]
  },
  {
   "cell_type": "code",
   "execution_count": 35,
   "metadata": {},
   "outputs": [
    {
     "data": {
      "text/html": [
       "<div>\n",
       "<style scoped>\n",
       "    .dataframe tbody tr th:only-of-type {\n",
       "        vertical-align: middle;\n",
       "    }\n",
       "\n",
       "    .dataframe tbody tr th {\n",
       "        vertical-align: top;\n",
       "    }\n",
       "\n",
       "    .dataframe thead th {\n",
       "        text-align: right;\n",
       "    }\n",
       "</style>\n",
       "<table border=\"1\" class=\"dataframe\">\n",
       "  <thead>\n",
       "    <tr style=\"text-align: right;\">\n",
       "      <th></th>\n",
       "      <th>0</th>\n",
       "      <th>1</th>\n",
       "      <th>2</th>\n",
       "      <th>3</th>\n",
       "      <th>4</th>\n",
       "    </tr>\n",
       "  </thead>\n",
       "  <tbody>\n",
       "    <tr>\n",
       "      <th>Last_name</th>\n",
       "      <td>Adinolfi</td>\n",
       "      <td>Unknown</td>\n",
       "      <td>Akinkuolie</td>\n",
       "      <td>Alagbe</td>\n",
       "      <td>Anderson</td>\n",
       "    </tr>\n",
       "    <tr>\n",
       "      <th>First_name</th>\n",
       "      <td>Wilson  K</td>\n",
       "      <td>Unknown</td>\n",
       "      <td>Sarah</td>\n",
       "      <td>Trina</td>\n",
       "      <td>Carol</td>\n",
       "    </tr>\n",
       "    <tr>\n",
       "      <th>EmpID</th>\n",
       "      <td>10026</td>\n",
       "      <td>10084</td>\n",
       "      <td>10196</td>\n",
       "      <td>10088</td>\n",
       "      <td>10069</td>\n",
       "    </tr>\n",
       "    <tr>\n",
       "      <th>GenderID</th>\n",
       "      <td>1</td>\n",
       "      <td>1</td>\n",
       "      <td>0</td>\n",
       "      <td>0</td>\n",
       "      <td>0</td>\n",
       "    </tr>\n",
       "    <tr>\n",
       "      <th>EmpStatusID</th>\n",
       "      <td>1</td>\n",
       "      <td>3</td>\n",
       "      <td>3</td>\n",
       "      <td>1</td>\n",
       "      <td>3</td>\n",
       "    </tr>\n",
       "    <tr>\n",
       "      <th>DeptID</th>\n",
       "      <td>5</td>\n",
       "      <td>3</td>\n",
       "      <td>5</td>\n",
       "      <td>5</td>\n",
       "      <td>5</td>\n",
       "    </tr>\n",
       "    <tr>\n",
       "      <th>Salary</th>\n",
       "      <td>62,506.00</td>\n",
       "      <td>104,437.00</td>\n",
       "      <td>64,955.00</td>\n",
       "      <td>64,991.00</td>\n",
       "      <td>50,825.00</td>\n",
       "    </tr>\n",
       "    <tr>\n",
       "      <th>Termd</th>\n",
       "      <td>0</td>\n",
       "      <td>1</td>\n",
       "      <td>1</td>\n",
       "      <td>0</td>\n",
       "      <td>1</td>\n",
       "    </tr>\n",
       "    <tr>\n",
       "      <th>Position</th>\n",
       "      <td>Production Technician I</td>\n",
       "      <td>Sr. DBA</td>\n",
       "      <td>Production Technician II</td>\n",
       "      <td>Production Technician I</td>\n",
       "      <td>Production Technician I</td>\n",
       "    </tr>\n",
       "    <tr>\n",
       "      <th>State</th>\n",
       "      <td>MA</td>\n",
       "      <td>MA</td>\n",
       "      <td>MA</td>\n",
       "      <td>MA</td>\n",
       "      <td>MA</td>\n",
       "    </tr>\n",
       "    <tr>\n",
       "      <th>Zip</th>\n",
       "      <td>1960</td>\n",
       "      <td>2148</td>\n",
       "      <td>1810</td>\n",
       "      <td>1886</td>\n",
       "      <td>2169</td>\n",
       "    </tr>\n",
       "    <tr>\n",
       "      <th>DOB</th>\n",
       "      <td>1983-07-10</td>\n",
       "      <td>1975-05-05</td>\n",
       "      <td>1988-09-19</td>\n",
       "      <td>1988-09-27</td>\n",
       "      <td>1989-09-08</td>\n",
       "    </tr>\n",
       "    <tr>\n",
       "      <th>MaritalDesc</th>\n",
       "      <td>Single</td>\n",
       "      <td>Married</td>\n",
       "      <td>Married</td>\n",
       "      <td>Married</td>\n",
       "      <td>Divorced</td>\n",
       "    </tr>\n",
       "    <tr>\n",
       "      <th>CitizenDesc</th>\n",
       "      <td>Unknown</td>\n",
       "      <td>US Citizen</td>\n",
       "      <td>Unknown</td>\n",
       "      <td>US Citizen</td>\n",
       "      <td>US Citizen</td>\n",
       "    </tr>\n",
       "    <tr>\n",
       "      <th>HispanicLatino</th>\n",
       "      <td>No</td>\n",
       "      <td>No</td>\n",
       "      <td>No</td>\n",
       "      <td>No</td>\n",
       "      <td>No</td>\n",
       "    </tr>\n",
       "    <tr>\n",
       "      <th>RaceDesc</th>\n",
       "      <td>White</td>\n",
       "      <td>White</td>\n",
       "      <td>Unknown</td>\n",
       "      <td>Unknown</td>\n",
       "      <td>White</td>\n",
       "    </tr>\n",
       "    <tr>\n",
       "      <th>DateofHire</th>\n",
       "      <td>2011-07-05</td>\n",
       "      <td>NaN</td>\n",
       "      <td>NaN</td>\n",
       "      <td>2008-01-07</td>\n",
       "      <td>2011-07-11</td>\n",
       "    </tr>\n",
       "    <tr>\n",
       "      <th>DateofTermination</th>\n",
       "      <td>0000-00-00</td>\n",
       "      <td>2016-06-16</td>\n",
       "      <td>2012-09-24</td>\n",
       "      <td>0000-00-00</td>\n",
       "      <td>2016-09-06</td>\n",
       "    </tr>\n",
       "    <tr>\n",
       "      <th>TermReason</th>\n",
       "      <td>N/A-StillEmployed</td>\n",
       "      <td>Unknown</td>\n",
       "      <td>hours</td>\n",
       "      <td>N/A-StillEmployed</td>\n",
       "      <td>return to school</td>\n",
       "    </tr>\n",
       "    <tr>\n",
       "      <th>EmploymentStatus</th>\n",
       "      <td>Active</td>\n",
       "      <td>Voluntarily Terminated</td>\n",
       "      <td>Voluntarily Terminated</td>\n",
       "      <td>Active</td>\n",
       "      <td>Voluntarily Terminated</td>\n",
       "    </tr>\n",
       "    <tr>\n",
       "      <th>Department</th>\n",
       "      <td>Production</td>\n",
       "      <td>IT/IS</td>\n",
       "      <td>Production</td>\n",
       "      <td>Production</td>\n",
       "      <td>Production</td>\n",
       "    </tr>\n",
       "    <tr>\n",
       "      <th>ManagerID</th>\n",
       "      <td>22.0</td>\n",
       "      <td>4.0</td>\n",
       "      <td>20.0</td>\n",
       "      <td>16.0</td>\n",
       "      <td>39.0</td>\n",
       "    </tr>\n",
       "    <tr>\n",
       "      <th>RecruitmentSource</th>\n",
       "      <td>LinkedIn</td>\n",
       "      <td>Indeed</td>\n",
       "      <td>LinkedIn</td>\n",
       "      <td>Unknown</td>\n",
       "      <td>Google Search</td>\n",
       "    </tr>\n",
       "    <tr>\n",
       "      <th>PerformanceScore</th>\n",
       "      <td>Exceeds</td>\n",
       "      <td>Fully Meets</td>\n",
       "      <td>Fully Meets</td>\n",
       "      <td>Fully Meets</td>\n",
       "      <td>Fully Meets</td>\n",
       "    </tr>\n",
       "    <tr>\n",
       "      <th>EngagementSurvey</th>\n",
       "      <td>4.6</td>\n",
       "      <td>4.96</td>\n",
       "      <td>3.02</td>\n",
       "      <td>4.84</td>\n",
       "      <td>5.0</td>\n",
       "    </tr>\n",
       "    <tr>\n",
       "      <th>EmpSatisfaction</th>\n",
       "      <td>5</td>\n",
       "      <td>3</td>\n",
       "      <td>3</td>\n",
       "      <td>5</td>\n",
       "      <td>4</td>\n",
       "    </tr>\n",
       "    <tr>\n",
       "      <th>LastPerformanceReview_Date</th>\n",
       "      <td>1/17/2019</td>\n",
       "      <td>NaN</td>\n",
       "      <td>5/15/2012</td>\n",
       "      <td>1/3/2019</td>\n",
       "      <td>2/1/2016</td>\n",
       "    </tr>\n",
       "    <tr>\n",
       "      <th>Absences</th>\n",
       "      <td>1</td>\n",
       "      <td>17</td>\n",
       "      <td>3</td>\n",
       "      <td>15</td>\n",
       "      <td>2</td>\n",
       "    </tr>\n",
       "    <tr>\n",
       "      <th>Age</th>\n",
       "      <td>40</td>\n",
       "      <td>48</td>\n",
       "      <td>35</td>\n",
       "      <td>35</td>\n",
       "      <td>34</td>\n",
       "    </tr>\n",
       "    <tr>\n",
       "      <th>SpecialProjectsCount</th>\n",
       "      <td>1.000268</td>\n",
       "      <td>6.0</td>\n",
       "      <td>0.0</td>\n",
       "      <td>0.0</td>\n",
       "      <td>0.0</td>\n",
       "    </tr>\n",
       "    <tr>\n",
       "      <th>DaysLateLast30</th>\n",
       "      <td>0.0</td>\n",
       "      <td>0.320352</td>\n",
       "      <td>0.325448</td>\n",
       "      <td>0.325448</td>\n",
       "      <td>0.0</td>\n",
       "    </tr>\n",
       "  </tbody>\n",
       "</table>\n",
       "</div>"
      ],
      "text/plain": [
       "                                                  0                       1  \\\n",
       "Last_name                                  Adinolfi                 Unknown   \n",
       "First_name                                Wilson  K                 Unknown   \n",
       "EmpID                                         10026                   10084   \n",
       "GenderID                                          1                       1   \n",
       "EmpStatusID                                       1                       3   \n",
       "DeptID                                            5                       3   \n",
       "Salary                                    62,506.00              104,437.00   \n",
       "Termd                                             0                       1   \n",
       "Position                    Production Technician I                 Sr. DBA   \n",
       "State                                            MA                      MA   \n",
       "Zip                                            1960                    2148   \n",
       "DOB                                      1983-07-10              1975-05-05   \n",
       "MaritalDesc                                  Single                 Married   \n",
       "CitizenDesc                                 Unknown              US Citizen   \n",
       "HispanicLatino                                   No                      No   \n",
       "RaceDesc                                      White                   White   \n",
       "DateofHire                               2011-07-05                     NaN   \n",
       "DateofTermination                        0000-00-00              2016-06-16   \n",
       "TermReason                        N/A-StillEmployed                 Unknown   \n",
       "EmploymentStatus                             Active  Voluntarily Terminated   \n",
       "Department                               Production                   IT/IS   \n",
       "ManagerID                                      22.0                     4.0   \n",
       "RecruitmentSource                          LinkedIn                  Indeed   \n",
       "PerformanceScore                            Exceeds             Fully Meets   \n",
       "EngagementSurvey                                4.6                    4.96   \n",
       "EmpSatisfaction                                   5                       3   \n",
       "LastPerformanceReview_Date                1/17/2019                     NaN   \n",
       "Absences                                          1                      17   \n",
       "Age                                              40                      48   \n",
       "SpecialProjectsCount                       1.000268                     6.0   \n",
       "DaysLateLast30                                  0.0                0.320352   \n",
       "\n",
       "                                                   2                        3  \\\n",
       "Last_name                                 Akinkuolie                   Alagbe   \n",
       "First_name                                     Sarah                    Trina   \n",
       "EmpID                                          10196                    10088   \n",
       "GenderID                                           0                        0   \n",
       "EmpStatusID                                        3                        1   \n",
       "DeptID                                             5                        5   \n",
       "Salary                                     64,955.00                64,991.00   \n",
       "Termd                                              1                        0   \n",
       "Position                    Production Technician II  Production Technician I   \n",
       "State                                             MA                       MA   \n",
       "Zip                                             1810                     1886   \n",
       "DOB                                       1988-09-19               1988-09-27   \n",
       "MaritalDesc                                  Married                  Married   \n",
       "CitizenDesc                                  Unknown               US Citizen   \n",
       "HispanicLatino                                    No                       No   \n",
       "RaceDesc                                     Unknown                  Unknown   \n",
       "DateofHire                                       NaN               2008-01-07   \n",
       "DateofTermination                         2012-09-24               0000-00-00   \n",
       "TermReason                                     hours        N/A-StillEmployed   \n",
       "EmploymentStatus              Voluntarily Terminated                   Active   \n",
       "Department                                Production               Production   \n",
       "ManagerID                                       20.0                     16.0   \n",
       "RecruitmentSource                           LinkedIn                  Unknown   \n",
       "PerformanceScore                         Fully Meets              Fully Meets   \n",
       "EngagementSurvey                                3.02                     4.84   \n",
       "EmpSatisfaction                                    3                        5   \n",
       "LastPerformanceReview_Date                 5/15/2012                 1/3/2019   \n",
       "Absences                                           3                       15   \n",
       "Age                                               35                       35   \n",
       "SpecialProjectsCount                             0.0                      0.0   \n",
       "DaysLateLast30                              0.325448                 0.325448   \n",
       "\n",
       "                                                  4  \n",
       "Last_name                                  Anderson  \n",
       "First_name                                   Carol   \n",
       "EmpID                                         10069  \n",
       "GenderID                                          0  \n",
       "EmpStatusID                                       3  \n",
       "DeptID                                            5  \n",
       "Salary                                    50,825.00  \n",
       "Termd                                             1  \n",
       "Position                    Production Technician I  \n",
       "State                                            MA  \n",
       "Zip                                            2169  \n",
       "DOB                                      1989-09-08  \n",
       "MaritalDesc                                Divorced  \n",
       "CitizenDesc                              US Citizen  \n",
       "HispanicLatino                                   No  \n",
       "RaceDesc                                      White  \n",
       "DateofHire                               2011-07-11  \n",
       "DateofTermination                        2016-09-06  \n",
       "TermReason                         return to school  \n",
       "EmploymentStatus             Voluntarily Terminated  \n",
       "Department                               Production  \n",
       "ManagerID                                      39.0  \n",
       "RecruitmentSource                     Google Search  \n",
       "PerformanceScore                        Fully Meets  \n",
       "EngagementSurvey                                5.0  \n",
       "EmpSatisfaction                                   4  \n",
       "LastPerformanceReview_Date                 2/1/2016  \n",
       "Absences                                          2  \n",
       "Age                                              34  \n",
       "SpecialProjectsCount                            0.0  \n",
       "DaysLateLast30                                  0.0  "
      ]
     },
     "execution_count": 35,
     "metadata": {},
     "output_type": "execute_result"
    }
   ],
   "source": [
    "df.head().T"
   ]
  },
  {
   "cell_type": "code",
   "execution_count": 36,
   "metadata": {},
   "outputs": [],
   "source": [
    "df.to_csv(\"limpieza_con_nulos.csv\")"
   ]
  },
  {
   "cell_type": "code",
   "execution_count": 2,
   "metadata": {},
   "outputs": [],
   "source": [
    "df = pd.read_csv('limpieza_con_nulos.csv')"
   ]
  },
  {
   "cell_type": "code",
   "execution_count": 5,
   "metadata": {},
   "outputs": [
    {
     "name": "stdout",
     "output_type": "stream",
     "text": [
      "<class 'pandas.core.frame.DataFrame'>\n",
      "RangeIndex: 311 entries, 0 to 310\n",
      "Data columns (total 32 columns):\n",
      " #   Column                      Non-Null Count  Dtype  \n",
      "---  ------                      --------------  -----  \n",
      " 0   Unnamed: 0                  311 non-null    int64  \n",
      " 1   Last_name                   311 non-null    object \n",
      " 2   First_name                  311 non-null    object \n",
      " 3   EmpID                       311 non-null    int64  \n",
      " 4   GenderID                    311 non-null    int64  \n",
      " 5   EmpStatusID                 311 non-null    int64  \n",
      " 6   DeptID                      311 non-null    int64  \n",
      " 7   Salary                      311 non-null    object \n",
      " 8   Termd                       311 non-null    int64  \n",
      " 9   Position                    311 non-null    object \n",
      " 10  State                       311 non-null    object \n",
      " 11  Zip                         311 non-null    int64  \n",
      " 12  DOB                         311 non-null    object \n",
      " 13  MaritalDesc                 311 non-null    object \n",
      " 14  CitizenDesc                 311 non-null    object \n",
      " 15  HispanicLatino              311 non-null    object \n",
      " 16  RaceDesc                    311 non-null    object \n",
      " 17  DateofHire                  228 non-null    object \n",
      " 18  DateofTermination           311 non-null    object \n",
      " 19  TermReason                  311 non-null    object \n",
      " 20  EmploymentStatus            311 non-null    object \n",
      " 21  Department                  311 non-null    object \n",
      " 22  ManagerID                   311 non-null    object \n",
      " 23  RecruitmentSource           311 non-null    object \n",
      " 24  PerformanceScore            311 non-null    object \n",
      " 25  EngagementSurvey            311 non-null    float64\n",
      " 26  EmpSatisfaction             311 non-null    int64  \n",
      " 27  LastPerformanceReview_Date  243 non-null    object \n",
      " 28  Absences                    311 non-null    int64  \n",
      " 29  Age                         311 non-null    int64  \n",
      " 30  SpecialProjectsCount        311 non-null    float64\n",
      " 31  DaysLateLast30              311 non-null    float64\n",
      "dtypes: float64(3), int64(10), object(19)\n",
      "memory usage: 77.9+ KB\n"
     ]
    }
   ],
   "source": [
    "df.info()"
   ]
  },
  {
   "cell_type": "code",
   "execution_count": 6,
   "metadata": {},
   "outputs": [
    {
     "data": {
      "text/plain": [
       "No     282\n",
       "Yes     27\n",
       "no       1\n",
       "yes      1\n",
       "Name: HispanicLatino, dtype: int64"
      ]
     },
     "execution_count": 6,
     "metadata": {},
     "output_type": "execute_result"
    }
   ],
   "source": [
    "df['HispanicLatino'].value_counts()"
   ]
  },
  {
   "cell_type": "code",
   "execution_count": 7,
   "metadata": {},
   "outputs": [],
   "source": [
    "mapa = {'yes' : 'Yes', 'no' : 'No'}"
   ]
  },
  {
   "cell_type": "code",
   "execution_count": 8,
   "metadata": {},
   "outputs": [],
   "source": [
    "df['HispanicLatino'] = df['HispanicLatino'].replace(mapa)"
   ]
  },
  {
   "cell_type": "code",
   "execution_count": 9,
   "metadata": {},
   "outputs": [
    {
     "data": {
      "text/plain": [
       "No     283\n",
       "Yes     28\n",
       "Name: HispanicLatino, dtype: int64"
      ]
     },
     "execution_count": 9,
     "metadata": {},
     "output_type": "execute_result"
    }
   ],
   "source": [
    "df['HispanicLatino'].value_counts()"
   ]
  },
  {
   "cell_type": "code",
   "execution_count": 2,
   "metadata": {},
   "outputs": [],
   "source": [
    "df = pd.read_csv('limpieza_con_nulos.csv')"
   ]
  },
  {
   "cell_type": "code",
   "execution_count": 3,
   "metadata": {},
   "outputs": [
    {
     "data": {
      "text/plain": [
       "Single       137\n",
       "Married      124\n",
       "Divorced      30\n",
       "Separated     12\n",
       "Widowed        8\n",
       "Name: MaritalDesc, dtype: int64"
      ]
     },
     "execution_count": 3,
     "metadata": {},
     "output_type": "execute_result"
    }
   ],
   "source": [
    "df['MaritalDesc'].value_counts()"
   ]
  },
  {
   "cell_type": "code",
   "execution_count": 4,
   "metadata": {},
   "outputs": [],
   "source": [
    "mapa_2 = {'Separated' : 'Divorced'}"
   ]
  },
  {
   "cell_type": "code",
   "execution_count": 5,
   "metadata": {},
   "outputs": [],
   "source": [
    "df['MaritalDesc'] = df['MaritalDesc'].replace(mapa_2)"
   ]
  },
  {
   "cell_type": "code",
   "execution_count": 6,
   "metadata": {},
   "outputs": [
    {
     "data": {
      "text/plain": [
       "Single      137\n",
       "Married     124\n",
       "Divorced     42\n",
       "Widowed       8\n",
       "Name: MaritalDesc, dtype: int64"
      ]
     },
     "execution_count": 6,
     "metadata": {},
     "output_type": "execute_result"
    }
   ],
   "source": [
    "df['MaritalDesc'].value_counts()"
   ]
  },
  {
   "cell_type": "code",
   "execution_count": 10,
   "metadata": {},
   "outputs": [],
   "source": [
    "df.to_csv(\"limpieza_con_nulos.csv\")"
   ]
  },
  {
   "cell_type": "code",
   "execution_count": 4,
   "metadata": {},
   "outputs": [],
   "source": [
    "df = pd.read_csv('limpieza_con_nulos.csv', index_col=0)"
   ]
  },
  {
   "cell_type": "code",
   "execution_count": 8,
   "metadata": {},
   "outputs": [],
   "source": [
    "df.drop('Unnamed: 0', axis=1,  inplace=True)"
   ]
  },
  {
   "cell_type": "code",
   "execution_count": 10,
   "metadata": {},
   "outputs": [],
   "source": [
    "df.to_csv(\"limpieza_con_nulos.csv\")"
   ]
  }
 ],
 "metadata": {
  "kernelspec": {
   "display_name": "base",
   "language": "python",
   "name": "python3"
  },
  "language_info": {
   "codemirror_mode": {
    "name": "ipython",
    "version": 3
   },
   "file_extension": ".py",
   "mimetype": "text/x-python",
   "name": "python",
   "nbconvert_exporter": "python",
   "pygments_lexer": "ipython3",
   "version": "3.10.9"
  },
  "orig_nbformat": 4
 },
 "nbformat": 4,
 "nbformat_minor": 2
}
