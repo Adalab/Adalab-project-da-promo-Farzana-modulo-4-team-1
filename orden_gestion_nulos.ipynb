{
 "cells": [
  {
   "cell_type": "code",
   "execution_count": 1,
   "metadata": {},
   "outputs": [
    {
     "name": "stderr",
     "output_type": "stream",
     "text": [
      "/Users/ana/opt/anaconda3/lib/python3.9/site-packages/pandas/core/computation/expressions.py:21: UserWarning: Pandas requires version '2.8.0' or newer of 'numexpr' (version '2.7.3' currently installed).\n",
      "  from pandas.core.computation.check import NUMEXPR_INSTALLED\n",
      "/Users/ana/opt/anaconda3/lib/python3.9/site-packages/pandas/core/arrays/masked.py:62: UserWarning: Pandas requires version '1.3.4' or newer of 'bottleneck' (version '1.3.2' currently installed).\n",
      "  from pandas.core import (\n"
     ]
    }
   ],
   "source": [
    "# importamos las librerías que necesitamos\n",
    "\n",
    "# Tratamiento de datos\n",
    "# -----------------------------------------------------------------------\n",
    "import pandas as pd\n",
    "import numpy as np\n",
    "\n",
    "# Imputación de nulos usando métodos avanzados estadísticos\n",
    "# -----------------------------------------------------------------------\n",
    "from sklearn.impute import SimpleImputer\n",
    "from sklearn.experimental import enable_iterative_imputer\n",
    "from sklearn.impute import IterativeImputer\n",
    "from sklearn.impute import KNNImputer\n",
    "\n",
    "# Librerías de visualización\n",
    "# -----------------------------------------------------------------------\n",
    "import seaborn as sns\n",
    "import matplotlib.pyplot as plt\n",
    "# Configuración\n",
    "# -----------------------------------------------------------------------\n",
    "pd.set_option('display.max_columns', None) # para poder visualizar todas las columnas de los DataFrames"
   ]
  },
  {
   "cell_type": "code",
   "execution_count": 2,
   "metadata": {},
   "outputs": [],
   "source": [
    "df_ejemplo = pd.read_csv('hr_limpio_con_nulos.csv', index_col=0)"
   ]
  },
  {
   "cell_type": "code",
   "execution_count": 3,
   "metadata": {},
   "outputs": [
    {
     "data": {
      "text/plain": [
       "age                          0.000000\n",
       "attrition                    0.000000\n",
       "businesstravel              47.831475\n",
       "dailyrate                    7.682776\n",
       "department                  81.288724\n",
       "distancefromhome             0.000000\n",
       "education                    0.000000\n",
       "educationfield              46.158612\n",
       "employeenumber              26.703841\n",
       "environmentsatisfaction      0.000000\n",
       "gender                       0.000000\n",
       "hourlyrate                   0.000000\n",
       "jobinvolvement               0.000000\n",
       "joblevel                     0.000000\n",
       "jobrole                      0.000000\n",
       "jobsatisfaction              0.000000\n",
       "maritalstatus               40.334572\n",
       "monthlyincome               52.230483\n",
       "monthlyrate                  0.000000\n",
       "numcompaniesworked           0.000000\n",
       "overtime                    41.883519\n",
       "percentsalaryhike            0.000000\n",
       "performancerating           12.081784\n",
       "relationshipsatisfaction     0.000000\n",
       "stockoptionlevel             0.000000\n",
       "totalworkingyears           32.589839\n",
       "trainingtimeslastyear        0.000000\n",
       "worklifebalance              6.691450\n",
       "yearsatcompany               0.000000\n",
       "yearsincurrentrole          97.893432\n",
       "yearssincelastpromotion      0.000000\n",
       "yearswithcurrmanager         0.000000\n",
       "yearbirth                    0.000000\n",
       "remotework                   0.000000\n",
       "dtype: float64"
      ]
     },
     "execution_count": 3,
     "metadata": {},
     "output_type": "execute_result"
    }
   ],
   "source": [
    "# lo primero que vamos a hacer es calcular el porcentaje de nulos que tenemos para cada columna\n",
    "(df_ejemplo.isnull().sum() / df_ejemplo.shape[0]) * 100"
   ]
  },
  {
   "cell_type": "code",
   "execution_count": 4,
   "metadata": {},
   "outputs": [
    {
     "data": {
      "text/html": [
       "<div>\n",
       "<style scoped>\n",
       "    .dataframe tbody tr th:only-of-type {\n",
       "        vertical-align: middle;\n",
       "    }\n",
       "\n",
       "    .dataframe tbody tr th {\n",
       "        vertical-align: top;\n",
       "    }\n",
       "\n",
       "    .dataframe thead th {\n",
       "        text-align: right;\n",
       "    }\n",
       "</style>\n",
       "<table border=\"1\" class=\"dataframe\">\n",
       "  <thead>\n",
       "    <tr style=\"text-align: right;\">\n",
       "      <th></th>\n",
       "      <th>%_nulos</th>\n",
       "    </tr>\n",
       "  </thead>\n",
       "  <tbody>\n",
       "    <tr>\n",
       "      <th>businesstravel</th>\n",
       "      <td>47.831475</td>\n",
       "    </tr>\n",
       "    <tr>\n",
       "      <th>dailyrate</th>\n",
       "      <td>7.682776</td>\n",
       "    </tr>\n",
       "    <tr>\n",
       "      <th>department</th>\n",
       "      <td>81.288724</td>\n",
       "    </tr>\n",
       "    <tr>\n",
       "      <th>educationfield</th>\n",
       "      <td>46.158612</td>\n",
       "    </tr>\n",
       "    <tr>\n",
       "      <th>employeenumber</th>\n",
       "      <td>26.703841</td>\n",
       "    </tr>\n",
       "    <tr>\n",
       "      <th>maritalstatus</th>\n",
       "      <td>40.334572</td>\n",
       "    </tr>\n",
       "    <tr>\n",
       "      <th>monthlyincome</th>\n",
       "      <td>52.230483</td>\n",
       "    </tr>\n",
       "    <tr>\n",
       "      <th>overtime</th>\n",
       "      <td>41.883519</td>\n",
       "    </tr>\n",
       "    <tr>\n",
       "      <th>performancerating</th>\n",
       "      <td>12.081784</td>\n",
       "    </tr>\n",
       "    <tr>\n",
       "      <th>totalworkingyears</th>\n",
       "      <td>32.589839</td>\n",
       "    </tr>\n",
       "    <tr>\n",
       "      <th>worklifebalance</th>\n",
       "      <td>6.691450</td>\n",
       "    </tr>\n",
       "    <tr>\n",
       "      <th>yearsincurrentrole</th>\n",
       "      <td>97.893432</td>\n",
       "    </tr>\n",
       "  </tbody>\n",
       "</table>\n",
       "</div>"
      ],
      "text/plain": [
       "                      %_nulos\n",
       "businesstravel      47.831475\n",
       "dailyrate            7.682776\n",
       "department          81.288724\n",
       "educationfield      46.158612\n",
       "employeenumber      26.703841\n",
       "maritalstatus       40.334572\n",
       "monthlyincome       52.230483\n",
       "overtime            41.883519\n",
       "performancerating   12.081784\n",
       "totalworkingyears   32.589839\n",
       "worklifebalance      6.691450\n",
       "yearsincurrentrole  97.893432"
      ]
     },
     "execution_count": 4,
     "metadata": {},
     "output_type": "execute_result"
    }
   ],
   "source": [
    "# lo convertimos a DataFrame\n",
    "df_nulos = pd.DataFrame((df_ejemplo.isnull().sum() / df_ejemplo.shape[0]) * 100, columns = [\"%_nulos\"])\n",
    "\n",
    "# filtramos el DataFrame para quedarnos solo con aquellas columnas que tengan nulos\n",
    "df_nulos[df_nulos[\"%_nulos\"] > 0]"
   ]
  },
  {
   "cell_type": "markdown",
   "metadata": {},
   "source": [
    "# Variable categóricas"
   ]
  },
  {
   "cell_type": "code",
   "execution_count": null,
   "metadata": {},
   "outputs": [],
   "source": [
    "# Obtenemos la lista de columnas categóricas que tienen nulos\n",
    "nulos_esta_cat = df[df.columns[df.isnull().any()]].select_dtypes(include = \"O\").columns\n",
    "print(\"Las columnas categóricas que tienen nulos son : \\n \")\n",
    "print(nulos_esta_cat)"
   ]
  },
  {
   "cell_type": "code",
   "execution_count": null,
   "metadata": {},
   "outputs": [],
   "source": [
    "# sacamos el 'value_counts()' de cada una de las columnas categóricas que tienen nulos para saber como es la distribución de sus categorías\n",
    "for col in nulos_esta_cat:\n",
    "    print(f\"La distribución de las categorías para la columna {col.upper()}\")\n",
    "    display(df[col].value_counts() / df.shape[0])\n",
    "    print(\"..........\")"
   ]
  },
  {
   "cell_type": "markdown",
   "metadata": {},
   "source": [
    "Segun los porcentajes de las categorias, si hay una categoria dominante reemplazamos por la moda, de lo contrario podemos hacer una categoria nueva  "
   ]
  },
  {
   "cell_type": "code",
   "execution_count": null,
   "metadata": {},
   "outputs": [],
   "source": [
    "# lo primero que vamos a hacer es crear dos listas, una con los nombres de las columnas que reemplazaremos por la moda y otra para las columnas que reemplazaremos por una categoría nueva\n",
    "columnas_moda = []\n",
    "columnas_desconocido = []"
   ]
  },
  {
   "cell_type": "markdown",
   "metadata": {},
   "source": [
    "Reemplazamos por la moda"
   ]
  },
  {
   "cell_type": "code",
   "execution_count": null,
   "metadata": {},
   "outputs": [],
   "source": [
    "\n",
    "# iteramos por la lista creada en el paso anterior:\n",
    "for columna in columnas_moda:\n",
    "    \n",
    "    # calculamos la moda para la columna por la que estamos iterando\n",
    "    moda = df[col].mode()[0]    \n",
    "    \n",
    "    # utilizando el método fillna reemplazamos los valores nulos por la moda calculada en el paso anterior. \n",
    "    df[columna] = df[columna].fillna(moda)\n",
    "\n",
    "# por último chequeamos si se han eliminado los nulos en las columnas de \"marital\" y \"loan\"\n",
    "print(\"Después del reemplazo usando 'fillna' quedan los siguientes nulos\")\n",
    "\n",
    "df[columnas_moda].isnull().sum()"
   ]
  },
  {
   "cell_type": "markdown",
   "metadata": {},
   "source": [
    "Agregamos una nueva categoria"
   ]
  },
  {
   "cell_type": "code",
   "execution_count": null,
   "metadata": {},
   "outputs": [],
   "source": [
    "# iteramos por la lista de columnas a las que le vamos a cambiar los nulos por \"Uknown\"\n",
    "for columna in columnas_desconocido:\n",
    "    \n",
    "    # reemplazamos los nulos por el valor Unknown para cada una de las columnas de la lista\n",
    "    df[columna] = df[columna].fillna(\"Unknown\")\n",
    "    \n",
    "# comprobamos si quedan nulos en las columnas categóricas. \n",
    "print(\"Después del reemplazo usando 'fillna' quedan los siguientes nulos\")\n",
    "df[columnas_desconocido].isnull().sum()"
   ]
  },
  {
   "cell_type": "markdown",
   "metadata": {},
   "source": [
    "## Variables numéricas"
   ]
  },
  {
   "cell_type": "code",
   "execution_count": 5,
   "metadata": {},
   "outputs": [
    {
     "name": "stdout",
     "output_type": "stream",
     "text": [
      "Las columnas numéricas que tienen nulos son : \n",
      " \n",
      "Index(['dailyrate', 'employeenumber', 'monthlyincome', 'performancerating',\n",
      "       'totalworkingyears', 'worklifebalance'],\n",
      "      dtype='object')\n"
     ]
    }
   ],
   "source": [
    "# Obtenemos la lista de columnas numericas que tienen nulos\n",
    "nulos_esta_num = df_ejemplo[df_ejemplo.columns[df_ejemplo.isnull().any()]].select_dtypes(include = np.number).columns\n",
    "print(\"Las columnas numéricas que tienen nulos son : \\n \")\n",
    "print(nulos_esta_num)"
   ]
  },
  {
   "cell_type": "code",
   "execution_count": 6,
   "metadata": {},
   "outputs": [
    {
     "data": {
      "text/plain": [
       "dailyrate            0.076828\n",
       "employeenumber       0.267038\n",
       "monthlyincome        0.522305\n",
       "performancerating    0.120818\n",
       "totalworkingyears    0.325898\n",
       "worklifebalance      0.066914\n",
       "dtype: float64"
      ]
     },
     "execution_count": 6,
     "metadata": {},
     "output_type": "execute_result"
    }
   ],
   "source": [
    "# lo primero que vamos a hacer es calcular el número de nulos que tenemos en cada una de las columnas numericas\n",
    "df_ejemplo[nulos_esta_num].isnull().sum() / df_ejemplo.shape[0]"
   ]
  },
  {
   "cell_type": "markdown",
   "metadata": {},
   "source": [
    "Podemos ver los valores atipicos con diagrama de boxplot "
   ]
  },
  {
   "cell_type": "code",
   "execution_count": 7,
   "metadata": {},
   "outputs": [
    {
     "name": "stderr",
     "output_type": "stream",
     "text": [
      "/Users/ana/opt/anaconda3/lib/python3.9/site-packages/seaborn/_core.py:1225: FutureWarning: is_categorical_dtype is deprecated and will be removed in a future version. Use isinstance(dtype, CategoricalDtype) instead\n",
      "  if pd.api.types.is_categorical_dtype(vector):\n",
      "/Users/ana/opt/anaconda3/lib/python3.9/site-packages/seaborn/_core.py:1225: FutureWarning: is_categorical_dtype is deprecated and will be removed in a future version. Use isinstance(dtype, CategoricalDtype) instead\n",
      "  if pd.api.types.is_categorical_dtype(vector):\n",
      "/Users/ana/opt/anaconda3/lib/python3.9/site-packages/seaborn/_core.py:1225: FutureWarning: is_categorical_dtype is deprecated and will be removed in a future version. Use isinstance(dtype, CategoricalDtype) instead\n",
      "  if pd.api.types.is_categorical_dtype(vector):\n",
      "/Users/ana/opt/anaconda3/lib/python3.9/site-packages/seaborn/_core.py:1225: FutureWarning: is_categorical_dtype is deprecated and will be removed in a future version. Use isinstance(dtype, CategoricalDtype) instead\n",
      "  if pd.api.types.is_categorical_dtype(vector):\n",
      "/Users/ana/opt/anaconda3/lib/python3.9/site-packages/seaborn/_core.py:1225: FutureWarning: is_categorical_dtype is deprecated and will be removed in a future version. Use isinstance(dtype, CategoricalDtype) instead\n",
      "  if pd.api.types.is_categorical_dtype(vector):\n",
      "/Users/ana/opt/anaconda3/lib/python3.9/site-packages/seaborn/_core.py:1225: FutureWarning: is_categorical_dtype is deprecated and will be removed in a future version. Use isinstance(dtype, CategoricalDtype) instead\n",
      "  if pd.api.types.is_categorical_dtype(vector):\n"
     ]
    },
    {
     "data": {
      "image/png": "[encoded data removed]",
      "text/plain": [
       "<Figure size 1440x720 with 5 Axes>"
      ]
     },
     "metadata": {
      "needs_background": "light"
     },
     "output_type": "display_data"
    }
   ],
   "source": [
    "# lo siguiente que tendríamos que hacer es ver si dentro de las columnas donde tenemos nulos tenemos valores atípicos. \n",
    "# Para hacer esto lo mejor es usar visualización, sin embargo, todavía no hemos aprendido (lo haremos mañana). \n",
    "# Por lo tanto, el código que tenéis a continuación no es necesario que lo entendais. \n",
    "\n",
    "fig, axes = plt.subplots(nrows = 2, ncols = 3, figsize = (20,10)) \n",
    "\n",
    "axes = axes.flat\n",
    "\n",
    "for indice, col in enumerate(nulos_esta_num):\n",
    "    sns.boxplot(x = col, data = df_ejemplo, ax = axes[indice])\n",
    "    \n",
    "plt.tight_layout()\n",
    "fig.delaxes(axes[-1]);"
   ]
  },
  {
   "cell_type": "markdown",
   "metadata": {},
   "source": [
    "Aquellas columnas que tienen valores por debajo del 5-10% podemos optar por reemplazar por la media o mediana\n",
    " - Si la muestra tiene valores atipicos, la mediana es la opcion, de lo contrario podemos usar la media\n"
   ]
  },
  {
   "cell_type": "markdown",
   "metadata": {},
   "source": [
    "Analisis de ambas columnas para el proyecto\n",
    "porcentaje de nulos\n",
    "dailyrate (tarifa diaria del empleado)  0.076828  representan 124 nulos de 1614 datos\n",
    "employeenumber (numero de identificacion unico para el empleado) 0.267038 representan 431 nulos de 1614 datos\n",
    "Tenemos mas de 500 valores duplicados "
   ]
  },
  {
   "cell_type": "code",
   "execution_count": 28,
   "metadata": {},
   "outputs": [
    {
     "data": {
      "text/plain": [
       "count    1183.0\n",
       "mean     1000.3\n",
       "std       596.4\n",
       "min         2.0\n",
       "25%       477.5\n",
       "50%       972.0\n",
       "75%      1530.0\n",
       "max      2068.0\n",
       "Name: employeenumber, dtype: float64"
      ]
     },
     "execution_count": 28,
     "metadata": {},
     "output_type": "execute_result"
    }
   ],
   "source": [
    "df_ejemplo['employeenumber'].describe().round(1)"
   ]
  },
  {
   "cell_type": "code",
   "execution_count": 16,
   "metadata": {},
   "outputs": [
    {
     "data": {
      "text/plain": [
       "count    1490.00\n",
       "mean      802.09\n",
       "std       403.25\n",
       "min       103.00\n",
       "25%       468.25\n",
       "50%       798.00\n",
       "75%      1157.00\n",
       "max      1499.00\n",
       "Name: dailyrate, dtype: float64"
      ]
     },
     "execution_count": 16,
     "metadata": {},
     "output_type": "execute_result"
    }
   ],
   "source": [
    "df_ejemplo['dailyrate'].describe().round(2).T"
   ]
  },
  {
   "cell_type": "code",
   "execution_count": 19,
   "metadata": {},
   "outputs": [
    {
     "data": {
      "text/plain": [
       "mean    802.085235\n",
       "50%     798.000000\n",
       "Name: dailyrate, dtype: float64"
      ]
     },
     "execution_count": 19,
     "metadata": {},
     "output_type": "execute_result"
    }
   ],
   "source": [
    "df_ejemplo[\"dailyrate\"].describe()[[\"mean\", \"50%\"]]"
   ]
  },
  {
   "cell_type": "code",
   "execution_count": null,
   "metadata": {},
   "outputs": [],
   "source": [
    "# para decidir si usamos la media o la mediana lo que haremos es hacer un describe de la columna para saber cuales son estos valores\n",
    "df[\"contact_year\"].describe()[[\"mean\", \"50%\"]]"
   ]
  },
  {
   "cell_type": "code",
   "execution_count": null,
   "metadata": {},
   "outputs": [],
   "source": [
    "media_conspriceidx = df[].mean()\n",
    "print(f\"La media de la columna 'conspriceidx' es: {round(media_conspriceidx, 2)}\")\n",
    "\n",
    "# aplicamos el método 'fillna()' a la columna\n",
    "df[] = df[]fillna(media_conspriceidx)\n",
    "\n",
    "# comprobamos los nulos para la columna\n",
    "print(f\"Después del 'fillna' tenemos {df['conspriceidx'].isnull().sum()} nulos\")"
   ]
  },
  {
   "cell_type": "code",
   "execution_count": null,
   "metadata": {},
   "outputs": [],
   "source": [
    "# lo siguiente que tenemos que hacer es introducir este array en nuestro DataFrame, en este caso sobreescribiremos la columna original. \n",
    "df[\"contact_year\"] = contact_year_imputado\n",
    "\n",
    "# por último comprobamos si tenemos nulos. \n",
    "print(f\"Después del 'SimpleImputer' tenemos {df['contact_year'].isnull().sum()} nulos\")"
   ]
  },
  {
   "cell_type": "code",
   "execution_count": null,
   "metadata": {},
   "outputs": [],
   "source": [
    "# creamos el objeto de la clase del SimpleImputer\n",
    "imputer_contact_year = SimpleImputer(strategy = \"mean\")\n",
    "\n",
    "# ajustamos y transformamos los datos. 📌 Fijaos como hemos puesto dos corchetes en el nombre de la columna\n",
    "contact_year_imputado = imputer_contact_year.fit_transform(df[[\"contact_year\"]])\n",
    "\n",
    "# comprobamos que es lo que nos devuelve este método. Nos devuelve un array. \n",
    "contact_year_imputado"
   ]
  },
  {
   "cell_type": "markdown",
   "metadata": {},
   "source": [
    "\n",
    "Aquellas columnas con valores atipicos tendremos que usar los metodos de KNNImputer y/o IterativeImputer "
   ]
  },
  {
   "cell_type": "code",
   "execution_count": null,
   "metadata": {},
   "outputs": [],
   "source": [
    "# como vamos a crear columnas nuevas, vamos a hacer una copia del DataFrame usando el método 'copy()'\n",
    "df_copia = df.copy()\n",
    "df_copia.head(1)"
   ]
  },
  {
   "cell_type": "markdown",
   "metadata": {},
   "source": [
    "IterativeImputer"
   ]
  },
  {
   "cell_type": "code",
   "execution_count": null,
   "metadata": {},
   "outputs": [],
   "source": [
    "# hemos dicho que para las tres columnas restantes aplicaremos los dos métodos para luego compararlos, empezaremos por el IterativeImputer\n",
    "# instanciamos las clases\n",
    "imputer_iterative = IterativeImputer(max_iter = 20, random_state = 42)\n",
    "\n",
    "# ajustamos y tranformamos los datos\n",
    "imputer_iterative_imputado = imputer_iterative.fit_transform(df_copia[[\"age\", \"pdays\", \"euribor3m\"]])\n",
    "\n",
    "# comprobamos que es lo que nos devuelve, que en este caso es un array también\n",
    "imputer_iterative_imputado"
   ]
  },
  {
   "cell_type": "code",
   "execution_count": null,
   "metadata": {},
   "outputs": [],
   "source": [
    "# en este caso como vamos a aplicar los dos métodos sobre estas columnas vamos a crear dos columnas nuevas\n",
    "df_copia[[\"age_iterative\", \"pdays_iterative\", \"euribor_iterative\"]] = imputer_iterative_imputado\n",
    "\n",
    "# comprobamos los nulos\n",
    "print(f\"Después del 'Iterative' tenemos: \\n{df_copia[['age_iterative', 'pdays_iterative', 'euribor_iterative']].isnull().sum()} nulos\")"
   ]
  },
  {
   "cell_type": "markdown",
   "metadata": {},
   "source": [
    "KNNImputer"
   ]
  },
  {
   "cell_type": "code",
   "execution_count": null,
   "metadata": {},
   "outputs": [],
   "source": [
    "# hagamos ahora lo mismo con el KNNImputer. NOTA, la ejecución de esta celda puede tardar un ratito\n",
    "\n",
    "# instanciamos la clase del KNNImputer\n",
    "imputer_knn = KNNImputer(n_neighbors = 5)\n",
    "\n",
    "# ajustamos y transformamos los datos\n",
    "imputer_knn_imputado = imputer_knn.fit_transform(df_copia[[\"age\", \"pdays\", \"euribor3m\"]])\n",
    "\n",
    "# comprobamos que es lo que nos devuelve, que sigue siendo un array\n",
    "imputer_knn_imputado"
   ]
  },
  {
   "cell_type": "code",
   "execution_count": null,
   "metadata": {},
   "outputs": [],
   "source": [
    "# por último nos queda añadir ese array al DataFrame como hemos hecho hasta ahora\n",
    "df_copia[[\"age_knn\", \"pdays_knn\", \"euribor_knn\"]] = imputer_knn_imputado\n",
    "\n",
    "\n",
    "# comprobamos los nulos\n",
    "print(f\"Después del 'KNN' tenemos: \\n{df_copia[['age_knn', 'pdays_knn', 'euribor_knn']].isnull().sum()} nulos\")"
   ]
  },
  {
   "cell_type": "markdown",
   "metadata": {},
   "source": [
    "Comparamos los datos con ambos metodos para decidir con cual nos quedamos"
   ]
  },
  {
   "cell_type": "code",
   "execution_count": null,
   "metadata": {},
   "outputs": [],
   "source": [
    "df_copia.describe()[[\"age\",\"age_iterative\", \"age_knn\", \"pdays\", \"pdays_iterative\", \"pdays_knn\", \"euribor3m\", \"euribor_iterative\", \"euribor_knn\"]]"
   ]
  },
  {
   "cell_type": "code",
   "execution_count": null,
   "metadata": {},
   "outputs": [],
   "source": [
    "#eliminar las columnas que ya no nos interesan para guardar el DataFrame \n",
    "df_copia.drop([\"age\", \"pdays\", \"euribor3m\", \"age_knn\" , \"euribor_knn\",  \"pdays_iterative\" ], axis = 1, inplace = True)\n",
    "\n",
    "# ahora vamos a cambiar el nombre de las columnas que quedaron para que tengan el mismo nombre de origen\n",
    "nuevo_nombre = {\"age_iterative\": \"age\",  'euribor_iterative': \"euribor3m\", \"pdays_knn\": \"pdays\"   }\n",
    "df_copia.rename(columns = nuevo_nombre, inplace = True)"
   ]
  },
  {
   "cell_type": "markdown",
   "metadata": {},
   "source": [
    "Guardamos el dataFrame modificado"
   ]
  },
  {
   "cell_type": "code",
   "execution_count": null,
   "metadata": {},
   "outputs": [],
   "source": [
    "\n",
    "df_copia.to_csv()"
   ]
  }
 ],
 "metadata": {
  "kernelspec": {
   "display_name": "base",
   "language": "python",
   "name": "python3"
  },
  "language_info": {
   "codemirror_mode": {
    "name": "ipython",
    "version": 3
   },
   "file_extension": ".py",
   "mimetype": "text/x-python",
   "name": "python",
   "nbconvert_exporter": "python",
   "pygments_lexer": "ipython3",
   "version": "3.9.7"
  },
  "orig_nbformat": 4
 },
 "nbformat": 4,
 "nbformat_minor": 2
}
